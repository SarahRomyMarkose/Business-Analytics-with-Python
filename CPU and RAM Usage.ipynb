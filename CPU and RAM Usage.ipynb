{
 "cells": [
  {
   "cell_type": "code",
   "execution_count": 1,
   "id": "8ef3fb61-119a-4a44-8b86-bddfbdba5e19",
   "metadata": {},
   "outputs": [
    {
     "name": "stdout",
     "output_type": "stream",
     "text": [
      "The CPU usage is: 10.1\n",
      "RAM memory % used: 84.2\n"
     ]
    }
   ],
   "source": [
    "import psutil  #Importing the library\n",
    "\n",
    "#Calling psutil.cpu_precent() for 4 seconds\n",
    "\n",
    "print(\"The CPU usage is:\",psutil.cpu_percent(4)) \n",
    "print(\"RAM memory % used:\",psutil.virtual_memory()[2])"
   ]
  },
  {
   "cell_type": "code",
   "execution_count": null,
   "id": "d7e5d783-49d9-427a-a4ec-16b390ce552b",
   "metadata": {},
   "outputs": [],
   "source": []
  }
 ],
 "metadata": {
  "kernelspec": {
   "display_name": "Python 3",
   "language": "python",
   "name": "python3"
  },
  "language_info": {
   "codemirror_mode": {
    "name": "ipython",
    "version": 3
   },
   "file_extension": ".py",
   "mimetype": "text/x-python",
   "name": "python",
   "nbconvert_exporter": "python",
   "pygments_lexer": "ipython3",
   "version": "3.8.8"
  }
 },
 "nbformat": 4,
 "nbformat_minor": 5
}
