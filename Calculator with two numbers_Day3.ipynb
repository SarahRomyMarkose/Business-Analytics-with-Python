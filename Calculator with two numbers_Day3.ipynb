{
 "cells": [
  {
   "cell_type": "code",
   "execution_count": 4,
   "id": "10cba186-5e2d-4f71-aaeb-14bba4499732",
   "metadata": {},
   "outputs": [
    {
     "name": "stdin",
     "output_type": "stream",
     "text": [
      "Enter 1st number:  12\n",
      "Enter 2nd number:  12\n",
      "Enter the Operation:  +\n"
     ]
    },
    {
     "name": "stdout",
     "output_type": "stream",
     "text": [
      "24\n"
     ]
    }
   ],
   "source": [
    "x=int(input(\"Enter 1st number: \"))\n",
    "y=int(input(\"Enter 2nd number: \"))\n",
    "z=input(\"Enter the Operation: \")\n",
    "\n",
    "def add(x,y):\n",
    "    z=x+y\n",
    "    return z\n",
    "def sub(x,y):\n",
    "    z=x-y\n",
    "    return z\n",
    "def mult(x,y):\n",
    "    z=x*y\n",
    "    return z\n",
    "def div(x,y):\n",
    "    z=x/y\n",
    "    return z\n",
    "\n",
    "if z==\"+\":\n",
    "    a=add(x,y)\n",
    "elif z==\"-\":\n",
    "    a=sub(x,y)\n",
    "elif z==\"*\":\n",
    "    a=mult(x,y)\n",
    "elif z==\"/\":\n",
    "    a=div(x,y)\n",
    "else:\n",
    "    a=print(\"Invalid operation\")\n",
    "    \n",
    "print(a)\n"
   ]
  },
  {
   "cell_type": "code",
   "execution_count": 6,
   "id": "8743d3ea-54c5-4c53-b45e-99f4d0cf1384",
   "metadata": {},
   "outputs": [
    {
     "name": "stdin",
     "output_type": "stream",
     "text": [
      "Enter 1st number:  12\n",
      "Enter 2nd number:  10\n",
      "Enter the Operation:  -\n"
     ]
    },
    {
     "name": "stdout",
     "output_type": "stream",
     "text": [
      "2\n"
     ]
    }
   ],
   "source": [
    "x=int(input(\"Enter 1st number: \"))\n",
    "y=int(input(\"Enter 2nd number: \"))\n",
    "z=input(\"Enter the Operation: \")\n",
    "\n",
    "def add(x,y):\n",
    "    z=x+y\n",
    "    return z\n",
    "def sub(x,y):\n",
    "    z=x-y\n",
    "    return z\n",
    "def mult(x,y):\n",
    "    z=x*y\n",
    "    return z\n",
    "def div(x,y):\n",
    "    z=x/y\n",
    "    return z\n",
    "\n",
    "if z==\"+\":\n",
    "    a=add(x,y)\n",
    "elif z==\"-\":\n",
    "    a=sub(x,y)\n",
    "elif z==\"*\":\n",
    "    a=mult(x,y)\n",
    "elif z==\"/\":\n",
    "    a=div(x,y)\n",
    "else:\n",
    "    a=print(\"Invalid operation\")\n",
    "    \n",
    "print(a)"
   ]
  },
  {
   "cell_type": "code",
   "execution_count": 7,
   "id": "15e66a04-6edb-4ff9-8ce8-a5afc5a67b27",
   "metadata": {},
   "outputs": [
    {
     "name": "stdin",
     "output_type": "stream",
     "text": [
      "Enter 1st number:  20\n",
      "Enter 2nd number:  10\n",
      "Enter the Operation:  *\n"
     ]
    },
    {
     "name": "stdout",
     "output_type": "stream",
     "text": [
      "200\n"
     ]
    }
   ],
   "source": [
    "x=int(input(\"Enter 1st number: \"))\n",
    "y=int(input(\"Enter 2nd number: \"))\n",
    "z=input(\"Enter the Operation: \")\n",
    "\n",
    "def add(x,y):\n",
    "    z=x+y\n",
    "    return z\n",
    "def sub(x,y):\n",
    "    z=x-y\n",
    "    return z\n",
    "def mult(x,y):\n",
    "    z=x*y\n",
    "    return z\n",
    "def div(x,y):\n",
    "    z=x/y\n",
    "    return z\n",
    "\n",
    "if z==\"+\":\n",
    "    a=add(x,y)\n",
    "elif z==\"-\":\n",
    "    a=sub(x,y)\n",
    "elif z==\"*\":\n",
    "    a=mult(x,y)\n",
    "elif z==\"/\":\n",
    "    a=div(x,y)\n",
    "else:\n",
    "    a=print(\"Invalid operation\")\n",
    "    \n",
    "print(a)"
   ]
  },
  {
   "cell_type": "code",
   "execution_count": 9,
   "id": "b52b9bd8-dcb7-4dab-9acc-b242aa6794d7",
   "metadata": {},
   "outputs": [
    {
     "name": "stdin",
     "output_type": "stream",
     "text": [
      "Enter 1st number:  1200\n",
      "Enter 2nd number:  100\n",
      "Enter the Operation:  /\n"
     ]
    },
    {
     "name": "stdout",
     "output_type": "stream",
     "text": [
      "12.0\n"
     ]
    }
   ],
   "source": [
    "x=int(input(\"Enter 1st number: \"))\n",
    "y=int(input(\"Enter 2nd number: \"))\n",
    "z=input(\"Enter the Operation: \")\n",
    "\n",
    "def add(x,y):\n",
    "    z=x+y\n",
    "    return z\n",
    "def sub(x,y):\n",
    "    z=x-y\n",
    "    return z\n",
    "def mult(x,y):\n",
    "    z=x*y\n",
    "    return z\n",
    "def div(x,y):\n",
    "    z=x/y\n",
    "    return z\n",
    "\n",
    "if z==\"+\":\n",
    "    a=add(x,y)\n",
    "elif z==\"-\":\n",
    "    a=sub(x,y)\n",
    "elif z==\"*\":\n",
    "    a=mult(x,y)\n",
    "elif z==\"/\":\n",
    "    a=div(x,y)\n",
    "else:\n",
    "    a=print(\"Invalid operation\")\n",
    "    \n",
    "print(a)"
   ]
  },
  {
   "cell_type": "code",
   "execution_count": null,
   "id": "ad20ac94-4ec3-41a8-ae1f-2bd42d948dbf",
   "metadata": {},
   "outputs": [],
   "source": []
  }
 ],
 "metadata": {
  "kernelspec": {
   "display_name": "Python 3",
   "language": "python",
   "name": "python3"
  },
  "language_info": {
   "codemirror_mode": {
    "name": "ipython",
    "version": 3
   },
   "file_extension": ".py",
   "mimetype": "text/x-python",
   "name": "python",
   "nbconvert_exporter": "python",
   "pygments_lexer": "ipython3",
   "version": "3.8.8"
  }
 },
 "nbformat": 4,
 "nbformat_minor": 5
}
