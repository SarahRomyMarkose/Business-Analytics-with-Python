{
 "cells": [
  {
   "cell_type": "code",
   "execution_count": 1,
   "id": "a7d87837-553e-416e-b2d6-2d5174947085",
   "metadata": {},
   "outputs": [
    {
     "name": "stdout",
     "output_type": "stream",
     "text": [
      "0\n",
      "1\n",
      "2\n",
      "3\n",
      "4\n",
      "5\n"
     ]
    }
   ],
   "source": [
    "x=0  # One example of Break statement.\n",
    "while x<10 :\n",
    "    print(x)\n",
    "    if x==5 :\n",
    "        break;\n",
    "    x=x+1"
   ]
  },
  {
   "cell_type": "code",
   "execution_count": 66,
   "id": "47336267-1551-4a43-bd08-af3215f9d7d3",
   "metadata": {},
   "outputs": [],
   "source": [
    "x=[5,6,89,\"India\",25] # List is used to store multiple values or items into one variable like x, y, l, k,.. etc.   Square bracket is used for list."
   ]
  },
  {
   "cell_type": "code",
   "execution_count": 67,
   "id": "b5e450d8-cdaa-427e-8983-a02bddf68394",
   "metadata": {},
   "outputs": [
    {
     "name": "stdout",
     "output_type": "stream",
     "text": [
      "[5, 6, 89, 'India', 25]\n"
     ]
    }
   ],
   "source": [
    "print(x)"
   ]
  },
  {
   "cell_type": "code",
   "execution_count": 68,
   "id": "5cdcc523-f6a8-4388-84fe-52ea5b524d7f",
   "metadata": {},
   "outputs": [
    {
     "data": {
      "text/plain": [
       "5"
      ]
     },
     "execution_count": 68,
     "metadata": {},
     "output_type": "execute_result"
    }
   ],
   "source": [
    "x[0]  # List assigns individual positions to each element always starting from 0"
   ]
  },
  {
   "cell_type": "code",
   "execution_count": 69,
   "id": "7b4b1b3e-bf10-40f8-9a4e-dec767277519",
   "metadata": {},
   "outputs": [
    {
     "data": {
      "text/plain": [
       "'India'"
      ]
     },
     "execution_count": 69,
     "metadata": {},
     "output_type": "execute_result"
    }
   ],
   "source": [
    "x[3]"
   ]
  },
  {
   "cell_type": "code",
   "execution_count": 70,
   "id": "f75c5326-9b1a-485e-8b1d-9050f768e199",
   "metadata": {},
   "outputs": [
    {
     "data": {
      "text/plain": [
       "[5, 6]"
      ]
     },
     "execution_count": 70,
     "metadata": {},
     "output_type": "execute_result"
    }
   ],
   "source": [
    "x[0:2] # Here, the range to print is from position 0 to position 2 but it does not include the element of second position."
   ]
  },
  {
   "cell_type": "code",
   "execution_count": 71,
   "id": "35dc4674-6c27-4ed7-bd95-f560813a1117",
   "metadata": {},
   "outputs": [
    {
     "data": {
      "text/plain": [
       "['India']"
      ]
     },
     "execution_count": 71,
     "metadata": {},
     "output_type": "execute_result"
    }
   ],
   "source": [
    "x[3:4]"
   ]
  },
  {
   "cell_type": "code",
   "execution_count": 72,
   "id": "fd531e84-5f1c-4cd8-ad69-4cd6cae19690",
   "metadata": {},
   "outputs": [
    {
     "data": {
      "text/plain": [
       "[5, 6, 89, 'India']"
      ]
     },
     "execution_count": 72,
     "metadata": {},
     "output_type": "execute_result"
    }
   ],
   "source": [
    "x[0:4] "
   ]
  },
  {
   "cell_type": "code",
   "execution_count": 73,
   "id": "a42e6830-bd0f-4584-9c56-d4339ee906d6",
   "metadata": {},
   "outputs": [
    {
     "data": {
      "text/plain": [
       "[5, 6, 89, 'India', 25]"
      ]
     },
     "execution_count": 73,
     "metadata": {},
     "output_type": "execute_result"
    }
   ],
   "source": [
    "x[0:5] # But if you want to print the last element, this method can be used else, use x[-1]."
   ]
  },
  {
   "cell_type": "code",
   "execution_count": 74,
   "id": "7637fafe-67d8-4a76-92fd-a9fbd92465da",
   "metadata": {},
   "outputs": [
    {
     "data": {
      "text/plain": [
       "25"
      ]
     },
     "execution_count": 74,
     "metadata": {},
     "output_type": "execute_result"
    }
   ],
   "source": [
    "x[-1]"
   ]
  },
  {
   "cell_type": "code",
   "execution_count": 75,
   "id": "2d1182d4-81ab-469b-a961-afd3a8ffad9b",
   "metadata": {},
   "outputs": [
    {
     "data": {
      "text/plain": [
       "89"
      ]
     },
     "execution_count": 75,
     "metadata": {},
     "output_type": "execute_result"
    }
   ],
   "source": [
    "x[-3]  #List assigns positions like the following - from front/beginning/left it goes like 0,1,2,3,...   and from last/right it goes like  -1,-2,-3,.."
   ]
  },
  {
   "cell_type": "code",
   "execution_count": 76,
   "id": "52d2f2e5-1d5c-4759-a1df-e05c6c4782f6",
   "metadata": {},
   "outputs": [],
   "source": [
    "x[3]=\"Kerela\" # To change any element of the given list to another element."
   ]
  },
  {
   "cell_type": "code",
   "execution_count": 77,
   "id": "a5cf7849-8b96-477e-9795-99918f72366e",
   "metadata": {},
   "outputs": [
    {
     "data": {
      "text/plain": [
       "[5, 6, 89, 'Kerela', 25]"
      ]
     },
     "execution_count": 77,
     "metadata": {},
     "output_type": "execute_result"
    }
   ],
   "source": [
    "x"
   ]
  },
  {
   "cell_type": "code",
   "execution_count": 78,
   "id": "38489e24-1543-4a67-8d48-1ec0700c3568",
   "metadata": {},
   "outputs": [
    {
     "data": {
      "text/plain": [
       "[5, 6, 89, 'Kerela', 25, 9]"
      ]
     },
     "execution_count": 78,
     "metadata": {},
     "output_type": "execute_result"
    }
   ],
   "source": [
    "x.append(9) #This x.append(..) is used inorder to add a new element to the given/existing list.\n",
    "x"
   ]
  },
  {
   "cell_type": "code",
   "execution_count": 79,
   "id": "8838b702-0e6a-417f-9160-6e000ed75db9",
   "metadata": {},
   "outputs": [
    {
     "data": {
      "text/plain": [
       "[5, 6, 89, 'Kerela', 25, 9, 'Cochin']"
      ]
     },
     "execution_count": 79,
     "metadata": {},
     "output_type": "execute_result"
    }
   ],
   "source": [
    "x.append(\"Cochin\")\n",
    "x"
   ]
  },
  {
   "cell_type": "code",
   "execution_count": 80,
   "id": "900467f1-93af-454f-9afa-b5a990a52232",
   "metadata": {},
   "outputs": [
    {
     "data": {
      "text/plain": [
       "'Cochin'"
      ]
     },
     "execution_count": 80,
     "metadata": {},
     "output_type": "execute_result"
    }
   ],
   "source": [
    "x.pop()  # This command enables to delete the last element from the list (* Only last)"
   ]
  },
  {
   "cell_type": "code",
   "execution_count": 89,
   "id": "13c78bcb-a6f2-402a-97d0-972fca0fc7fe",
   "metadata": {},
   "outputs": [],
   "source": [
    "x=[5, 6, 89, 'Kerela', 25]"
   ]
  },
  {
   "cell_type": "code",
   "execution_count": 90,
   "id": "6fdbd74c-8921-4de3-9011-bc1185a318a3",
   "metadata": {},
   "outputs": [],
   "source": [
    "del x[0]  # This command will delete the element of the mentioned index."
   ]
  },
  {
   "cell_type": "code",
   "execution_count": 91,
   "id": "9af40a40-6655-47a4-b2ae-d2d427025cde",
   "metadata": {},
   "outputs": [
    {
     "data": {
      "text/plain": [
       "[6, 89, 'Kerela', 25]"
      ]
     },
     "execution_count": 91,
     "metadata": {},
     "output_type": "execute_result"
    }
   ],
   "source": [
    "x"
   ]
  },
  {
   "cell_type": "code",
   "execution_count": 83,
   "id": "afd26215-d4bf-43b3-a34b-11317ce23486",
   "metadata": {},
   "outputs": [],
   "source": [
    "x=(5,6,89,\"Kerela\",25)  # On using small/normal bracket, the list changes to Truple. Here, the elements in Truple cannot be changed as the elements given are constant."
   ]
  },
  {
   "cell_type": "code",
   "execution_count": 84,
   "id": "8bcda566-042f-4f59-962b-f79958d7e891",
   "metadata": {},
   "outputs": [
    {
     "ename": "TypeError",
     "evalue": "'tuple' object is not callable",
     "output_type": "error",
     "traceback": [
      "\u001b[1;31m---------------------------------------------------------------------------\u001b[0m",
      "\u001b[1;31mTypeError\u001b[0m                                 Traceback (most recent call last)",
      "\u001b[1;32m<ipython-input-84-5471647fe012>\u001b[0m in \u001b[0;36m<module>\u001b[1;34m\u001b[0m\n\u001b[1;32m----> 1\u001b[1;33m \u001b[0mx\u001b[0m\u001b[1;33m(\u001b[0m\u001b[1;36m0\u001b[0m\u001b[1;33m)\u001b[0m\u001b[1;33m\u001b[0m\u001b[1;33m\u001b[0m\u001b[0m\n\u001b[0m",
      "\u001b[1;31mTypeError\u001b[0m: 'tuple' object is not callable"
     ]
    }
   ],
   "source": [
    "x(0)"
   ]
  },
  {
   "cell_type": "code",
   "execution_count": 24,
   "id": "39d2f198-3108-4241-b7ae-1508a468b026",
   "metadata": {},
   "outputs": [],
   "source": [
    "x={5,6,3,4,1,5} # On using curl brackets, the Truple becomes a SET. Here, the value elements will be arranged in order and all the duplicate values will be eliminated on printing the results."
   ]
  },
  {
   "cell_type": "code",
   "execution_count": 25,
   "id": "bc860e33-f369-401c-8d37-f0ca229dacc7",
   "metadata": {},
   "outputs": [
    {
     "data": {
      "text/plain": [
       "{1, 3, 4, 5, 6}"
      ]
     },
     "execution_count": 25,
     "metadata": {},
     "output_type": "execute_result"
    }
   ],
   "source": [
    "x"
   ]
  },
  {
   "cell_type": "code",
   "execution_count": 28,
   "id": "eaed4952-4794-42a7-8578-db68f15f78a6",
   "metadata": {},
   "outputs": [],
   "source": [
    "x=[\"India\",\"France\",\"Italy\",\"USA\",\"Australia\"]"
   ]
  },
  {
   "cell_type": "code",
   "execution_count": 29,
   "id": "777e1c6f-6d51-4b31-9d7b-89601973f7ca",
   "metadata": {},
   "outputs": [
    {
     "name": "stdout",
     "output_type": "stream",
     "text": [
      "India\n",
      "France\n",
      "Italy\n",
      "USA\n",
      "Australia\n"
     ]
    }
   ],
   "source": [
    "for a in x : # On using 'for' command in list, you can list down the elements in the following way.\n",
    "    print(a)"
   ]
  },
  {
   "cell_type": "code",
   "execution_count": 30,
   "id": "9ddc9612-070a-4cfe-a730-9cab1f9b86db",
   "metadata": {},
   "outputs": [],
   "source": [
    "x=[10000,5,9] # Here, 10000 is the Amount, 5 is the no. of years, 9 is the rate of interest. Calculate the interest for 5 years."
   ]
  },
  {
   "cell_type": "code",
   "execution_count": 33,
   "id": "af9794bd-6b8e-4427-b754-47b98d250716",
   "metadata": {},
   "outputs": [
    {
     "data": {
      "text/plain": [
       "4500.0"
      ]
     },
     "execution_count": 33,
     "metadata": {},
     "output_type": "execute_result"
    }
   ],
   "source": [
    "i= x[0]*x[1]*x[2]/100\n",
    "i"
   ]
  },
  {
   "cell_type": "code",
   "execution_count": 34,
   "id": "2b667df7-1c17-4e91-acd7-10b8ed21c06f",
   "metadata": {},
   "outputs": [
    {
     "name": "stdout",
     "output_type": "stream",
     "text": [
      "I\n",
      "n\n",
      "d\n",
      "i\n",
      "a\n"
     ]
    }
   ],
   "source": [
    "for x in \"India\" : # On using 'for' command in list, you can list down the element in the following way.\n",
    "    print(x)"
   ]
  },
  {
   "cell_type": "code",
   "execution_count": 36,
   "id": "db5d049c-f786-47a0-ba46-dfdc34fbb6ea",
   "metadata": {},
   "outputs": [
    {
     "name": "stdout",
     "output_type": "stream",
     "text": [
      "I\n",
      "n\n"
     ]
    }
   ],
   "source": [
    "for x in \"India\" : # Here, while printing the letters downward, letter 'd' is not included and it 'Breaks' before that letter.\n",
    "    if x== \"d\" :\n",
    "        break\n",
    "    print(x)"
   ]
  },
  {
   "cell_type": "code",
   "execution_count": 37,
   "id": "3a51c320-51ff-4bfa-9e09-187295d7d440",
   "metadata": {},
   "outputs": [],
   "source": [
    "x=[\"Sarah\"]"
   ]
  },
  {
   "cell_type": "code",
   "execution_count": 38,
   "id": "9a33e2ab-34d0-4d0f-9cf4-35d95990ef7e",
   "metadata": {},
   "outputs": [
    {
     "name": "stdout",
     "output_type": "stream",
     "text": [
      "S\n",
      "a\n",
      "r\n",
      "a\n"
     ]
    }
   ],
   "source": [
    "for x in \"Sarah\" :\n",
    "    if x== \"h\" :\n",
    "        break\n",
    "    print(x)"
   ]
  },
  {
   "cell_type": "code",
   "execution_count": 39,
   "id": "74b9e6af-31e5-4a77-862a-ece810c719af",
   "metadata": {},
   "outputs": [
    {
     "name": "stdout",
     "output_type": "stream",
     "text": [
      "I\n",
      "n\n",
      "i\n",
      "a\n"
     ]
    }
   ],
   "source": [
    "for x in \"India\" :  \n",
    "    if x== \"d\" :    # Here, after the 'if' command if 'continue' is used, then, the letter 'd' will be avoided and the letters coming after will be printed.\n",
    "        continue \n",
    "    print(x)"
   ]
  },
  {
   "cell_type": "code",
   "execution_count": 40,
   "id": "74bba59e-34ca-4359-ad53-14888a89f3e6",
   "metadata": {},
   "outputs": [
    {
     "name": "stdout",
     "output_type": "stream",
     "text": [
      "S\n",
      "a\n"
     ]
    }
   ],
   "source": [
    "for x in \"Sarah\" :\n",
    "    if x== \"r\" :\n",
    "        break\n",
    "    print(x)"
   ]
  },
  {
   "cell_type": "code",
   "execution_count": 41,
   "id": "af816b51-0180-42d6-ad86-0a24ef028011",
   "metadata": {},
   "outputs": [
    {
     "name": "stdout",
     "output_type": "stream",
     "text": [
      "S\n",
      "a\n",
      "a\n",
      "h\n"
     ]
    }
   ],
   "source": [
    "for x in \"Sarah\" :\n",
    "    if x== \"r\" :\n",
    "        continue \n",
    "    print(x)"
   ]
  },
  {
   "cell_type": "code",
   "execution_count": 42,
   "id": "2ea29457-8d96-4add-ba2b-83cf373e85af",
   "metadata": {},
   "outputs": [],
   "source": [
    "x={1:\"India\", 2:\"USA\", 3:\"Italy\"}  # Creating a dictionary."
   ]
  },
  {
   "cell_type": "code",
   "execution_count": 43,
   "id": "f9c9b8a9-5b13-439f-aadd-4146cbfabf90",
   "metadata": {},
   "outputs": [
    {
     "data": {
      "text/plain": [
       "'India'"
      ]
     },
     "execution_count": 43,
     "metadata": {},
     "output_type": "execute_result"
    }
   ],
   "source": [
    "x[1]  # Here, since we manually assigned the index, the first element starts with 1 and not 0. Here, 1,2,3 are called the 'keys' and rest are called 'values'."
   ]
  },
  {
   "cell_type": "code",
   "execution_count": 44,
   "id": "2361147f-eeac-417f-bc5e-7a5a27e33f48",
   "metadata": {},
   "outputs": [],
   "source": [
    "x={\"A\":\"India\", \"B\":\"USA\", \"C\":\"Italy\"}"
   ]
  },
  {
   "cell_type": "code",
   "execution_count": 45,
   "id": "5bd20e3d-4da5-4beb-bdaf-697d1865080a",
   "metadata": {},
   "outputs": [
    {
     "data": {
      "text/plain": [
       "'Italy'"
      ]
     },
     "execution_count": 45,
     "metadata": {},
     "output_type": "execute_result"
    }
   ],
   "source": [
    "x[\"C\"]"
   ]
  },
  {
   "cell_type": "code",
   "execution_count": 47,
   "id": "2e9bc46a-b2c2-4aa1-abb4-553ef5dc0640",
   "metadata": {},
   "outputs": [],
   "source": [
    "x={2:\"India\", 3:\"USA\", 1:\"Italy\"}"
   ]
  },
  {
   "cell_type": "code",
   "execution_count": 48,
   "id": "4f510d38-d075-45eb-ae9c-e2938edc9187",
   "metadata": {},
   "outputs": [
    {
     "data": {
      "text/plain": [
       "'Italy'"
      ]
     },
     "execution_count": 48,
     "metadata": {},
     "output_type": "execute_result"
    }
   ],
   "source": [
    "x[1]"
   ]
  },
  {
   "cell_type": "code",
   "execution_count": null,
   "id": "a45584bb-33b8-4a64-8078-984bd8aeb112",
   "metadata": {},
   "outputs": [],
   "source": []
  }
 ],
 "metadata": {
  "kernelspec": {
   "display_name": "Python 3",
   "language": "python",
   "name": "python3"
  },
  "language_info": {
   "codemirror_mode": {
    "name": "ipython",
    "version": 3
   },
   "file_extension": ".py",
   "mimetype": "text/x-python",
   "name": "python",
   "nbconvert_exporter": "python",
   "pygments_lexer": "ipython3",
   "version": "3.8.8"
  }
 },
 "nbformat": 4,
 "nbformat_minor": 5
}
