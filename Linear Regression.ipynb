{
 "cells": [
  {
   "cell_type": "code",
   "execution_count": 56,
   "id": "6dce8813-266d-49b4-9fc9-b544c1e73112",
   "metadata": {},
   "outputs": [],
   "source": [
    "import numpy as np  # We use numpy for easy mathematical calculations such as mean, median and mode."
   ]
  },
  {
   "cell_type": "code",
   "execution_count": null,
   "id": "6e94f2ef-b851-44ca-b970-9a82808c6952",
   "metadata": {},
   "outputs": [],
   "source": [
    "# Linear Regression -> Highly important and repeatedly asked Question."
   ]
  },
  {
   "cell_type": "code",
   "execution_count": 57,
   "id": "1cdd615b-8765-47e3-886a-9ee8f5ac254a",
   "metadata": {},
   "outputs": [],
   "source": [
    "x=np.array([1,2,3,4,5])\n",
    "y=np.array([7,14,15,18,21])"
   ]
  },
  {
   "cell_type": "code",
   "execution_count": 58,
   "id": "bb84fa7a-6858-4f32-ab2a-3dba940c797d",
   "metadata": {},
   "outputs": [],
   "source": [
    "# ydash=(mslope*xdash)+c -> Equation of a line.\n",
    "\n",
    "#  m (slope) = sum of[(x-xdash)(y-ydash)]/ sum of [(x-xdash)^2]      *sum of/sigma\n",
    "\n",
    "# To find xdash, i.e., mean of x ->  xdash = np.mean(x)\n",
    "# To find ydash, i.e., mean of y ->  ydash = np.mean(y)\n",
    "\n",
    "# Therefore, c, intercept = ydash-(mslope*xdash)\n",
    "\n",
    "# And hence, Ynew=(mslope*x) + c"
   ]
  },
  {
   "cell_type": "code",
   "execution_count": 59,
   "id": "a0d70e45-8dc0-4094-ad62-b6f606e43d0b",
   "metadata": {},
   "outputs": [
    {
     "data": {
      "text/plain": [
       "3.0"
      ]
     },
     "execution_count": 59,
     "metadata": {},
     "output_type": "execute_result"
    }
   ],
   "source": [
    "xdash=np.mean(x)\n",
    "xdash"
   ]
  },
  {
   "cell_type": "code",
   "execution_count": 60,
   "id": "ed39917e-dbd7-4686-918e-4d3254c85269",
   "metadata": {},
   "outputs": [
    {
     "data": {
      "text/plain": [
       "15.0"
      ]
     },
     "execution_count": 60,
     "metadata": {},
     "output_type": "execute_result"
    }
   ],
   "source": [
    "ydash=np.mean(y)\n",
    "ydash"
   ]
  },
  {
   "cell_type": "code",
   "execution_count": 61,
   "id": "fc0d668c-2fe1-4a84-9959-8b77a0fff901",
   "metadata": {},
   "outputs": [
    {
     "data": {
      "text/plain": [
       "array([16.,  1.,  0.,  3., 12.])"
      ]
     },
     "execution_count": 61,
     "metadata": {},
     "output_type": "execute_result"
    }
   ],
   "source": [
    "A= (x-xdash)* (y-ydash)\n",
    "A"
   ]
  },
  {
   "cell_type": "code",
   "execution_count": 62,
   "id": "f2aee9a7-ed89-4894-b395-fc9711a39b56",
   "metadata": {},
   "outputs": [
    {
     "data": {
      "text/plain": [
       "32.0"
      ]
     },
     "execution_count": 62,
     "metadata": {},
     "output_type": "execute_result"
    }
   ],
   "source": [
    "Adash= sum(A)\n",
    "Adash"
   ]
  },
  {
   "cell_type": "code",
   "execution_count": 63,
   "id": "e5933efa-6aeb-40ee-9b71-563c1f8eb0f5",
   "metadata": {},
   "outputs": [
    {
     "data": {
      "text/plain": [
       "array([4., 1., 0., 1., 4.])"
      ]
     },
     "execution_count": 63,
     "metadata": {},
     "output_type": "execute_result"
    }
   ],
   "source": [
    "B=(x-xdash)*(x-xdash)\n",
    "B"
   ]
  },
  {
   "cell_type": "code",
   "execution_count": 64,
   "id": "2079112d-22fe-4d47-8beb-4aec60664993",
   "metadata": {},
   "outputs": [
    {
     "data": {
      "text/plain": [
       "10.0"
      ]
     },
     "execution_count": 64,
     "metadata": {},
     "output_type": "execute_result"
    }
   ],
   "source": [
    "Bdash=sum(B)\n",
    "Bdash"
   ]
  },
  {
   "cell_type": "code",
   "execution_count": 65,
   "id": "d2843936-e3a4-4af5-b620-a5e5019a7e05",
   "metadata": {},
   "outputs": [
    {
     "data": {
      "text/plain": [
       "3.2"
      ]
     },
     "execution_count": 65,
     "metadata": {},
     "output_type": "execute_result"
    }
   ],
   "source": [
    "mslope=Adash/Bdash\n",
    "mslope"
   ]
  },
  {
   "cell_type": "code",
   "execution_count": 66,
   "id": "50512235-5258-4008-9ddc-ca03ea6b7077",
   "metadata": {},
   "outputs": [
    {
     "data": {
      "text/plain": [
       "5.399999999999999"
      ]
     },
     "execution_count": 66,
     "metadata": {},
     "output_type": "execute_result"
    }
   ],
   "source": [
    "c=ydash-(mslope*xdash)   # c, intercept = ydash-(m*xdash)\n",
    "c"
   ]
  },
  {
   "cell_type": "code",
   "execution_count": 67,
   "id": "d702cb23-671c-41aa-a197-383e3fb41fe2",
   "metadata": {},
   "outputs": [
    {
     "data": {
      "text/plain": [
       "array([ 8.6, 11.8, 15. , 18.2, 21.4])"
      ]
     },
     "execution_count": 67,
     "metadata": {},
     "output_type": "execute_result"
    }
   ],
   "source": [
    "Ynew=(mslope*x) + c\n",
    "Ynew"
   ]
  },
  {
   "cell_type": "code",
   "execution_count": 68,
   "id": "33f8e050-04f9-46fa-b6f3-581139b47869",
   "metadata": {},
   "outputs": [],
   "source": [
    "import matplotlib.pyplot as plt"
   ]
  },
  {
   "cell_type": "code",
   "execution_count": 69,
   "id": "2ec3b302-55fb-4853-824f-f923afad2b7b",
   "metadata": {},
   "outputs": [
    {
     "data": {
      "text/plain": [
       "<matplotlib.collections.PathCollection at 0x15e05db2910>"
      ]
     },
     "execution_count": 69,
     "metadata": {},
     "output_type": "execute_result"
    },
    {
     "data": {
      "image/png": "[encoded data removed]",
      "text/plain": [
       "<Figure size 432x288 with 1 Axes>"
      ]
     },
     "metadata": {
      "needs_background": "light"
     },
     "output_type": "display_data"
    }
   ],
   "source": [
    "plt.scatter(x,y)"
   ]
  },
  {
   "cell_type": "code",
   "execution_count": 70,
   "id": "fcffed6d-a2e0-445d-a181-3eb018983a80",
   "metadata": {},
   "outputs": [
    {
     "data": {
      "text/plain": [
       "[<matplotlib.lines.Line2D at 0x15e05de0a90>]"
      ]
     },
     "execution_count": 70,
     "metadata": {},
     "output_type": "execute_result"
    },
    {
     "data": {
      "image/png": "[encoded data removed]",
      "text/plain": [
       "<Figure size 432x288 with 1 Axes>"
      ]
     },
     "metadata": {
      "needs_background": "light"
     },
     "output_type": "display_data"
    }
   ],
   "source": [
    "plt.scatter(x,y)\n",
    "plt.plot(x,Ynew)"
   ]
  },
  {
   "cell_type": "code",
   "execution_count": 71,
   "id": "b3a8348f-476e-4f09-8979-e30622c4cc1d",
   "metadata": {},
   "outputs": [
    {
     "data": {
      "text/plain": [
       "27.8"
      ]
     },
     "execution_count": 71,
     "metadata": {},
     "output_type": "execute_result"
    }
   ],
   "source": [
    "y=(mslope*7)+c  # In order to extend the value of 7th day or to forecast the value of the 7th day.\n",
    "y"
   ]
  },
  {
   "cell_type": "code",
   "execution_count": 72,
   "id": "b0be6d35-cbc3-41de-8deb-e11d56422f20",
   "metadata": {},
   "outputs": [],
   "source": [
    "import numpy as np\n",
    "import matplotlib.pyplot as plt\n",
    "import pandas as pd"
   ]
  },
  {
   "cell_type": "code",
   "execution_count": 78,
   "id": "40d10b8d-889b-4601-97a9-ff9caeb1618d",
   "metadata": {},
   "outputs": [],
   "source": [
    "dataset=pd.read_excel(\"Linear regression 1.xlsx\")"
   ]
  },
  {
   "cell_type": "code",
   "execution_count": 79,
   "id": "636fdaa5-5ccb-4893-aa1d-c7d17b53faad",
   "metadata": {},
   "outputs": [
    {
     "data": {
      "text/plain": [
       "array([[ 1],\n",
       "       [ 2],\n",
       "       [ 3],\n",
       "       [ 4],\n",
       "       [ 5],\n",
       "       [ 6],\n",
       "       [ 7],\n",
       "       [ 8],\n",
       "       [ 9],\n",
       "       [10]], dtype=int64)"
      ]
     },
     "execution_count": 79,
     "metadata": {},
     "output_type": "execute_result"
    }
   ],
   "source": [
    "x=dataset.iloc[:,:-1].values\n",
    "x"
   ]
  },
  {
   "cell_type": "code",
   "execution_count": 80,
   "id": "2843d994-e085-454e-96e6-97cc842d583e",
   "metadata": {},
   "outputs": [
    {
     "data": {
      "text/plain": [
       "array([ 3, 10, 15, 12, 10, 18, 21, 40, 45, 40], dtype=int64)"
      ]
     },
     "execution_count": 80,
     "metadata": {},
     "output_type": "execute_result"
    }
   ],
   "source": [
    "y=dataset.iloc[:,-1].values\n",
    "y"
   ]
  },
  {
   "cell_type": "code",
   "execution_count": 81,
   "id": "cc59e3a5-6c45-4169-bb94-2724219cec75",
   "metadata": {},
   "outputs": [
    {
     "data": {
      "text/plain": [
       "LinearRegression()"
      ]
     },
     "execution_count": 81,
     "metadata": {},
     "output_type": "execute_result"
    }
   ],
   "source": [
    "from sklearn.linear_model import LinearRegression\n",
    "regressor=LinearRegression()\n",
    "regressor.fit(x,y)"
   ]
  },
  {
   "cell_type": "code",
   "execution_count": 82,
   "id": "bd963f14-bd74-42ee-a40b-6e659044f2db",
   "metadata": {},
   "outputs": [],
   "source": [
    "ypred=regressor.predict(x)"
   ]
  },
  {
   "cell_type": "code",
   "execution_count": 83,
   "id": "6c112e80-0db4-46ae-9a8a-6ccc1e27c67e",
   "metadata": {},
   "outputs": [
    {
     "data": {
      "image/png": "[encoded data removed]",
      "text/plain": [
       "<Figure size 432x288 with 1 Axes>"
      ]
     },
     "metadata": {
      "needs_background": "light"
     },
     "output_type": "display_data"
    }
   ],
   "source": [
    "plt.scatter(x,y, color='red')\n",
    "plt.plot(x, regressor.predict(x), color= 'blue')\n",
    "plt.xlabel('Package')\n",
    "plt.ylabel('Sales')\n",
    "plt.show()"
   ]
  },
  {
   "cell_type": "code",
   "execution_count": null,
   "id": "32804f80-92f3-422d-b50d-158ed624328e",
   "metadata": {},
   "outputs": [],
   "source": []
  }
 ],
 "metadata": {
  "kernelspec": {
   "display_name": "Python 3",
   "language": "python",
   "name": "python3"
  },
  "language_info": {
   "codemirror_mode": {
    "name": "ipython",
    "version": 3
   },
   "file_extension": ".py",
   "mimetype": "text/x-python",
   "name": "python",
   "nbconvert_exporter": "python",
   "pygments_lexer": "ipython3",
   "version": "3.8.8"
  }
 },
 "nbformat": 4,
 "nbformat_minor": 5
}
