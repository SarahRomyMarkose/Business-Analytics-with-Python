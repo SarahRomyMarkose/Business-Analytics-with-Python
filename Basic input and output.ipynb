{
 "cells": [
  {
   "cell_type": "code",
   "execution_count": 3,
   "id": "7e96784b-12fe-410a-a73f-67ca18c4a83a",
   "metadata": {},
   "outputs": [
    {
     "name": "stdout",
     "output_type": "stream",
     "text": [
      "10\n"
     ]
    }
   ],
   "source": [
    "x=10 #Value assignment \n",
    "print(x)"
   ]
  },
  {
   "cell_type": "code",
   "execution_count": 4,
   "id": "d305d098-8400-403f-a82f-6322a301dcb0",
   "metadata": {},
   "outputs": [
    {
     "data": {
      "text/plain": [
       "int"
      ]
     },
     "execution_count": 4,
     "metadata": {},
     "output_type": "execute_result"
    }
   ],
   "source": [
    "type(x)"
   ]
  },
  {
   "cell_type": "code",
   "execution_count": 11,
   "id": "583f0b99-3a08-4d37-b166-be64b66972e7",
   "metadata": {},
   "outputs": [
    {
     "name": "stdout",
     "output_type": "stream",
     "text": [
      "<class 'int'>\n",
      "<class 'float'>\n",
      "<class 'str'>\n"
     ]
    }
   ],
   "source": [
    "x=10\n",
    "y=20.5\n",
    "z=\"Hello!!!\"\n",
    "\n",
    "print(type(x))\n",
    "print(type(y))\n",
    "print(type(z))"
   ]
  },
  {
   "cell_type": "code",
   "execution_count": 8,
   "id": "25f21177-97b0-4462-95c4-c9f09826a10d",
   "metadata": {},
   "outputs": [
    {
     "data": {
      "text/plain": [
       "int"
      ]
     },
     "execution_count": 8,
     "metadata": {},
     "output_type": "execute_result"
    }
   ],
   "source": [
    "type(x)"
   ]
  },
  {
   "cell_type": "code",
   "execution_count": 9,
   "id": "6c60b68d-7d92-45ac-85a2-1cac30f07545",
   "metadata": {},
   "outputs": [
    {
     "data": {
      "text/plain": [
       "float"
      ]
     },
     "execution_count": 9,
     "metadata": {},
     "output_type": "execute_result"
    }
   ],
   "source": [
    "type(y)"
   ]
  },
  {
   "cell_type": "code",
   "execution_count": 10,
   "id": "11ebb33e-b8f0-41e3-a664-62473c3e9a35",
   "metadata": {},
   "outputs": [
    {
     "data": {
      "text/plain": [
       "str"
      ]
     },
     "execution_count": 10,
     "metadata": {},
     "output_type": "execute_result"
    }
   ],
   "source": [
    "type(z)"
   ]
  },
  {
   "cell_type": "code",
   "execution_count": 12,
   "id": "ada73a86-98de-4dcd-a1c1-24ee243107ff",
   "metadata": {},
   "outputs": [
    {
     "name": "stdout",
     "output_type": "stream",
     "text": [
      "30\n",
      "-10\n",
      "200\n",
      "0.5\n"
     ]
    }
   ],
   "source": [
    "x=10\n",
    "y=20\n",
    "\n",
    "print(x+y)\n",
    "print(x-y)\n",
    "print(x*y)\n",
    "print(x/y)"
   ]
  },
  {
   "cell_type": "code",
   "execution_count": 14,
   "id": "17b3c8b3-ceef-48a7-9756-0b42e606b5e3",
   "metadata": {},
   "outputs": [
    {
     "name": "stdout",
     "output_type": "stream",
     "text": [
      "IndiaKerela\n"
     ]
    }
   ],
   "source": [
    "x=\"India\"\n",
    "y=\"Kerela\"\n",
    "\n",
    "print(x+y)"
   ]
  },
  {
   "cell_type": "code",
   "execution_count": 20,
   "id": "ba911210-75bd-471f-8bc9-fa539cbfbe7c",
   "metadata": {},
   "outputs": [
    {
     "name": "stdout",
     "output_type": "stream",
     "text": [
      "Mariegold\n"
     ]
    }
   ],
   "source": [
    "x=\"Marie\"\n",
    "y=\"gold\"\n",
    "print(x+y)"
   ]
  },
  {
   "cell_type": "code",
   "execution_count": 19,
   "id": "78ea1156-3291-4120-aae6-d97fcd9074aa",
   "metadata": {},
   "outputs": [
    {
     "name": "stdout",
     "output_type": "stream",
     "text": [
      "2022\n"
     ]
    }
   ],
   "source": [
    "x=\"20\"\n",
    "y=\"22\"\n",
    "print(x+y)"
   ]
  },
  {
   "cell_type": "code",
   "execution_count": 21,
   "id": "7764ddc1-77ed-49f8-91fd-c4b2f0f48eed",
   "metadata": {},
   "outputs": [
    {
     "name": "stdin",
     "output_type": "stream",
     "text": [
      "Enter a value:  107\n"
     ]
    }
   ],
   "source": [
    "x=input(\"Enter a value: \")"
   ]
  },
  {
   "cell_type": "code",
   "execution_count": 22,
   "id": "f620b0d8-2d22-4c68-a370-2f2c210b6508",
   "metadata": {},
   "outputs": [
    {
     "name": "stdin",
     "output_type": "stream",
     "text": [
      "Enter first number:  200\n",
      "Enter second number:  300\n"
     ]
    },
    {
     "name": "stdout",
     "output_type": "stream",
     "text": [
      "200300\n"
     ]
    }
   ],
   "source": [
    "x=input(\"Enter first number: \") # NOTE Please use 'int' if the input entered is a value and you want to use that value for calculation. If else like string, then only use 'input'.\n",
    "y=input(\"Enter second number: \")\n",
    "\n",
    "x+y\n",
    "\n",
    "print(x+y)"
   ]
  },
  {
   "cell_type": "code",
   "execution_count": 23,
   "id": "45b4048d-a73a-4339-a5e5-87625e15be4d",
   "metadata": {},
   "outputs": [
    {
     "name": "stdin",
     "output_type": "stream",
     "text": [
      "Enter first number:  200\n",
      "Enter second number:  300\n"
     ]
    },
    {
     "name": "stdout",
     "output_type": "stream",
     "text": [
      "500\n"
     ]
    }
   ],
   "source": [
    "x=int(input(\"Enter first number: \"))\n",
    "y=int(input(\"Enter second number: \"))\n",
    "\n",
    "x+y\n",
    "\n",
    "print(x+y)"
   ]
  },
  {
   "cell_type": "code",
   "execution_count": 26,
   "id": "4f67445b-9cd3-4fdb-865a-e55f8670cd26",
   "metadata": {},
   "outputs": [
    {
     "name": "stdin",
     "output_type": "stream",
     "text": [
      "Enter I value:  400\n",
      "Enter II value:  300\n"
     ]
    },
    {
     "name": "stdout",
     "output_type": "stream",
     "text": [
      "Sum:  700\n",
      "Difference:  100\n",
      "Product:  120000\n",
      "Quotient:  1.3333333333333333\n"
     ]
    }
   ],
   "source": [
    "x=int(input(\"Enter I value: \")) # Simple CALCULATOR\n",
    "y=int(input(\"Enter II value: \"))\n",
    "\n",
    "x+y\n",
    "x-y\n",
    "x*y\n",
    "x/y\n",
    "\n",
    "print(\"Sum: \",x+y)\n",
    "print(\"Difference: \",x-y)\n",
    "print(\"Product: \",x*y)\n",
    "print(\"Quotient: \",x/y)"
   ]
  },
  {
   "cell_type": "code",
   "execution_count": 27,
   "id": "68723473-247a-4fc4-b530-b835fe1660aa",
   "metadata": {},
   "outputs": [
    {
     "name": "stdin",
     "output_type": "stream",
     "text": [
      "Enter your marks:  99\n"
     ]
    },
    {
     "name": "stdout",
     "output_type": "stream",
     "text": [
      "You have passed!\n"
     ]
    }
   ],
   "source": [
    "marks=int(input(\"Enter your marks: \")) # If 'if', 'while', 'for' is used, always remember to use ':' that is, colon and always leave space for the the next line which is to be executed.\n",
    "if marks>=50 :\n",
    "    print(\"You have passed!\")\n",
    "if marks<50 :\n",
    "    print(\"You have failed\")"
   ]
  },
  {
   "cell_type": "code",
   "execution_count": 34,
   "id": "a8c7b7f0-9677-48df-81e3-a1224b18bc54",
   "metadata": {},
   "outputs": [
    {
     "name": "stdin",
     "output_type": "stream",
     "text": [
      "Enter your Income:  233000000\n"
     ]
    },
    {
     "name": "stdout",
     "output_type": "stream",
     "text": [
      "You have to pay tax\n"
     ]
    }
   ],
   "source": [
    "income=int(input(\"Enter your Income: \"))\n",
    "if income>250000 :\n",
    "    print(\"You have to pay tax\")\n",
    "if income<=250000 :\n",
    "    print(\"No tax :)\")"
   ]
  },
  {
   "cell_type": "code",
   "execution_count": 33,
   "id": "39eb8dfd-b1a8-43a4-b921-880cfb31c931",
   "metadata": {},
   "outputs": [
    {
     "name": "stdin",
     "output_type": "stream",
     "text": [
      "Enter your Income:  15000\n"
     ]
    },
    {
     "name": "stdout",
     "output_type": "stream",
     "text": [
      "No tax :)\n"
     ]
    }
   ],
   "source": [
    "income=int(input(\"Enter your Income: \"))\n",
    "if income>250000 :\n",
    "    print(\"You have to pay tax\")\n",
    "if income<=250000 :\n",
    "    print(\"No tax :)\")"
   ]
  },
  {
   "cell_type": "code",
   "execution_count": 38,
   "id": "1d573d6c-cf5d-44c8-8674-093c968eabf2",
   "metadata": {},
   "outputs": [
    {
     "name": "stdin",
     "output_type": "stream",
     "text": [
      "Enter your salary:  459000\n"
     ]
    },
    {
     "name": "stdout",
     "output_type": "stream",
     "text": [
      "Your tax:  20900.0\n"
     ]
    }
   ],
   "source": [
    "x= int(input(\"Enter your salary: \"))\n",
    "if x>250000 :\n",
    "    print(\"Your tax: \", (x-250000)*0.1)\n",
    "if x<=250000 :\n",
    "    print(\"No tax! :)\")"
   ]
  },
  {
   "cell_type": "code",
   "execution_count": 40,
   "id": "4239db01-3c05-4ea4-a0b7-9e8427c2e163",
   "metadata": {},
   "outputs": [
    {
     "name": "stdin",
     "output_type": "stream",
     "text": [
      "Enter your salary:  15000\n"
     ]
    },
    {
     "name": "stdout",
     "output_type": "stream",
     "text": [
      "No tax! :)\n"
     ]
    }
   ],
   "source": [
    "x= int(input(\"Enter your salary: \"))\n",
    "if x>250000 :\n",
    "    print(\"Your tax: \", (x-250000)*0.1)\n",
    "if x<=250000 :\n",
    "    print(\"No tax! :)\")"
   ]
  },
  {
   "cell_type": "code",
   "execution_count": 39,
   "id": "d763dab4-d169-4078-978a-012c5ffe6a73",
   "metadata": {},
   "outputs": [
    {
     "name": "stdin",
     "output_type": "stream",
     "text": [
      "Enter your salary:  500000\n"
     ]
    },
    {
     "name": "stdout",
     "output_type": "stream",
     "text": [
      "Your tax:  25000.0\n"
     ]
    }
   ],
   "source": [
    "x= int(input(\"Enter your salary: \"))\n",
    "if x>250000 :\n",
    "    print(\"Your tax: \", (x-250000)*0.1)\n",
    "if x<=250000 :\n",
    "    print(\"No tax! :)\")"
   ]
  },
  {
   "cell_type": "code",
   "execution_count": 41,
   "id": "e4512ed8-f4c8-48f4-aa18-dd0131b63da7",
   "metadata": {},
   "outputs": [
    {
     "name": "stdin",
     "output_type": "stream",
     "text": [
      "Enter your salary:  15000\n"
     ]
    },
    {
     "name": "stdout",
     "output_type": "stream",
     "text": [
      "No tax :)\n"
     ]
    }
   ],
   "source": [
    "x=int(input(\"Enter your salary: \"))\n",
    "if x<=250000 :\n",
    "    print(\"No tax :)\")\n",
    "if 500000>x>250000 :\n",
    "    print(\"Your tax: \", (x-250000)*0.1)\n",
    "if 750000>x>500000 :\n",
    "    print(\"Your tax: \", (x-250000)*0.2)"
   ]
  },
  {
   "cell_type": "code",
   "execution_count": 42,
   "id": "5268e20a-a6e8-45af-9c88-90f2de78e1ec",
   "metadata": {},
   "outputs": [
    {
     "name": "stdin",
     "output_type": "stream",
     "text": [
      "Enter your salary:  260000\n"
     ]
    },
    {
     "name": "stdout",
     "output_type": "stream",
     "text": [
      "Your tax:  1000.0\n"
     ]
    }
   ],
   "source": [
    "x=int(input(\"Enter your salary: \"))\n",
    "if x<=250000 :\n",
    "    print(\"No tax :)\")\n",
    "if 500000>x>250000 :\n",
    "    print(\"Your tax: \", (x-250000)*0.1)\n",
    "if 750000>x>500000 :\n",
    "    print(\"Your tax: \", (x-250000)*0.2)"
   ]
  },
  {
   "cell_type": "code",
   "execution_count": 44,
   "id": "64d74308-4f0b-4caf-a0db-e802c7fb49e5",
   "metadata": {},
   "outputs": [
    {
     "name": "stdin",
     "output_type": "stream",
     "text": [
      "Enter your salary:  700000\n"
     ]
    },
    {
     "name": "stdout",
     "output_type": "stream",
     "text": [
      "Your tax:  90000.0\n"
     ]
    }
   ],
   "source": [
    "x=int(input(\"Enter your salary: \"))\n",
    "if x<=250000 :\n",
    "    print(\"No tax :)\")\n",
    "if 500000>x>250000 :\n",
    "    print(\"Your tax: \", (x-250000)*0.1)\n",
    "if 750000>x>500000 :\n",
    "    print(\"Your tax: \", (x-250000)*0.2)"
   ]
  },
  {
   "cell_type": "code",
   "execution_count": 46,
   "id": "73929f7b-2eb2-4b22-a53f-742f1ca4333a",
   "metadata": {},
   "outputs": [
    {
     "name": "stdout",
     "output_type": "stream",
     "text": [
      "0\n",
      "1\n",
      "2\n",
      "3\n",
      "4\n",
      "5\n",
      "6\n",
      "7\n",
      "8\n",
      "9\n",
      "10\n",
      "11\n",
      "12\n",
      "13\n",
      "14\n",
      "15\n",
      "16\n",
      "17\n",
      "18\n",
      "19\n",
      "20\n",
      "21\n",
      "22\n",
      "23\n",
      "24\n",
      "25\n",
      "26\n",
      "27\n",
      "28\n",
      "29\n",
      "30\n",
      "31\n",
      "32\n",
      "33\n",
      "34\n",
      "35\n",
      "36\n",
      "37\n",
      "38\n",
      "39\n",
      "40\n",
      "41\n",
      "42\n",
      "43\n",
      "44\n",
      "45\n",
      "46\n",
      "47\n",
      "48\n",
      "49\n",
      "50\n",
      "51\n",
      "52\n",
      "53\n",
      "54\n",
      "55\n",
      "56\n",
      "57\n",
      "58\n",
      "59\n",
      "60\n",
      "61\n",
      "62\n",
      "63\n",
      "64\n",
      "65\n",
      "66\n",
      "67\n",
      "68\n",
      "69\n",
      "70\n",
      "71\n",
      "72\n",
      "73\n",
      "74\n",
      "75\n",
      "76\n",
      "77\n",
      "78\n",
      "79\n",
      "80\n",
      "81\n",
      "82\n",
      "83\n",
      "84\n",
      "85\n",
      "86\n",
      "87\n",
      "88\n",
      "89\n",
      "90\n",
      "91\n",
      "92\n",
      "93\n",
      "94\n",
      "95\n",
      "96\n",
      "97\n",
      "98\n",
      "99\n"
     ]
    }
   ],
   "source": [
    "x=0                    # while loop\n",
    "while x<100 :\n",
    "    print(x)\n",
    "    x=x+1            # If this comes after 'print()', then 0 (here) will be included."
   ]
  },
  {
   "cell_type": "code",
   "execution_count": 47,
   "id": "70b7c17b-852d-4c1a-8a2e-22db3296fecb",
   "metadata": {},
   "outputs": [
    {
     "name": "stdout",
     "output_type": "stream",
     "text": [
      "1\n",
      "2\n",
      "3\n",
      "4\n",
      "5\n",
      "6\n",
      "7\n",
      "8\n",
      "9\n",
      "10\n",
      "11\n",
      "12\n",
      "13\n",
      "14\n",
      "15\n",
      "16\n",
      "17\n",
      "18\n",
      "19\n",
      "20\n",
      "21\n",
      "22\n",
      "23\n",
      "24\n",
      "25\n",
      "26\n",
      "27\n",
      "28\n",
      "29\n",
      "30\n",
      "31\n",
      "32\n",
      "33\n",
      "34\n",
      "35\n",
      "36\n",
      "37\n",
      "38\n",
      "39\n",
      "40\n",
      "41\n",
      "42\n",
      "43\n",
      "44\n",
      "45\n",
      "46\n",
      "47\n",
      "48\n",
      "49\n",
      "50\n",
      "51\n",
      "52\n",
      "53\n",
      "54\n",
      "55\n",
      "56\n",
      "57\n",
      "58\n",
      "59\n",
      "60\n",
      "61\n",
      "62\n",
      "63\n",
      "64\n",
      "65\n",
      "66\n",
      "67\n",
      "68\n",
      "69\n",
      "70\n",
      "71\n",
      "72\n",
      "73\n",
      "74\n",
      "75\n",
      "76\n",
      "77\n",
      "78\n",
      "79\n",
      "80\n",
      "81\n",
      "82\n",
      "83\n",
      "84\n",
      "85\n",
      "86\n",
      "87\n",
      "88\n",
      "89\n",
      "90\n",
      "91\n",
      "92\n",
      "93\n",
      "94\n",
      "95\n",
      "96\n",
      "97\n",
      "98\n",
      "99\n",
      "100\n"
     ]
    }
   ],
   "source": [
    "x=0                    # while loop\n",
    "while x<100 :\n",
    "    x=x+1            # If this comes before 'print()', then 0 (here) wont be included.\n",
    "    print(x)    "
   ]
  },
  {
   "cell_type": "code",
   "execution_count": 1,
   "id": "041c708e-b422-49d4-acc7-31e20031221f",
   "metadata": {},
   "outputs": [
    {
     "name": "stdout",
     "output_type": "stream",
     "text": [
      "0\n",
      "1\n",
      "3\n",
      "6\n",
      "10\n",
      "15\n",
      "21\n",
      "28\n",
      "36\n",
      "45\n",
      "55\n",
      "66\n",
      "78\n",
      "91\n",
      "105\n",
      "120\n",
      "136\n",
      "153\n",
      "171\n",
      "190\n",
      "210\n",
      "231\n",
      "253\n",
      "276\n",
      "300\n",
      "325\n",
      "351\n",
      "378\n",
      "406\n",
      "435\n",
      "465\n",
      "496\n",
      "528\n",
      "561\n",
      "595\n",
      "630\n",
      "666\n",
      "703\n",
      "741\n",
      "780\n",
      "820\n",
      "861\n",
      "903\n",
      "946\n",
      "990\n",
      "1035\n",
      "1081\n",
      "1128\n",
      "1176\n",
      "1225\n",
      "1275\n",
      "1326\n",
      "1378\n",
      "1431\n",
      "1485\n",
      "1540\n",
      "1596\n",
      "1653\n",
      "1711\n",
      "1770\n",
      "1830\n",
      "1891\n",
      "1953\n",
      "2016\n",
      "2080\n",
      "2145\n",
      "2211\n",
      "2278\n",
      "2346\n",
      "2415\n",
      "2485\n",
      "2556\n",
      "2628\n",
      "2701\n",
      "2775\n",
      "2850\n",
      "2926\n",
      "3003\n",
      "3081\n",
      "3160\n",
      "3240\n",
      "3321\n",
      "3403\n",
      "3486\n",
      "3570\n",
      "3655\n",
      "3741\n",
      "3828\n",
      "3916\n",
      "4005\n",
      "4095\n",
      "4186\n",
      "4278\n",
      "4371\n",
      "4465\n",
      "4560\n",
      "4656\n",
      "4753\n",
      "4851\n",
      "4950\n"
     ]
    }
   ],
   "source": [
    "x=0\n",
    "paper=0\n",
    "while x<100:\n",
    "    paper=paper+x\n",
    "    x=x+1\n",
    "    print(paper)"
   ]
  },
  {
   "cell_type": "code",
   "execution_count": null,
   "id": "8fe78970-ee57-4bc8-a004-0c4aa908e64a",
   "metadata": {},
   "outputs": [],
   "source": []
  }
 ],
 "metadata": {
  "kernelspec": {
   "display_name": "Python 3",
   "language": "python",
   "name": "python3"
  },
  "language_info": {
   "codemirror_mode": {
    "name": "ipython",
    "version": 3
   },
   "file_extension": ".py",
   "mimetype": "text/x-python",
   "name": "python",
   "nbconvert_exporter": "python",
   "pygments_lexer": "ipython3",
   "version": "3.8.8"
  }
 },
 "nbformat": 4,
 "nbformat_minor": 5
}
