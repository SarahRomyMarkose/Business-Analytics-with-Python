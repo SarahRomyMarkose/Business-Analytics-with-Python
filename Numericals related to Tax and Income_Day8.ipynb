{
 "cells": [
  {
   "cell_type": "code",
   "execution_count": 9,
   "id": "055e0756-742b-4475-bbe3-705319e8b03a",
   "metadata": {},
   "outputs": [
    {
     "name": "stdin",
     "output_type": "stream",
     "text": [
      "Your username: SarahRomy\n"
     ]
    },
    {
     "name": "stdout",
     "output_type": "stream",
     "text": [
      "Valid username\n"
     ]
    }
   ],
   "source": [
    "x=input(\"Your username:\")\n",
    "if x==\"sarahromy\" :\n",
    "   print (\"Valid username\")\n",
    "if x==\"SarahRomy\" :\n",
    "   print (\"Valid username\")\n",
    "else :\n",
    "   print (\"Username Invalid\")"
   ]
  },
  {
   "cell_type": "code",
   "execution_count": 10,
   "id": "025dee7f-a52d-4792-a79e-ebf87dea1611",
   "metadata": {},
   "outputs": [
    {
     "name": "stdin",
     "output_type": "stream",
     "text": [
      "Enter your Income in Lakhs: 3\n"
     ]
    },
    {
     "name": "stdout",
     "output_type": "stream",
     "text": [
      "Base Tax\n"
     ]
    }
   ],
   "source": [
    "Income=int(input(\"Enter your Income in Lakhs:\"))\n",
    "if ((Income>=2) and (Income<=5)):\n",
    "    print(\"Base Tax\")\n",
    "else: \n",
    "    print(\"Special Tax rates\")"
   ]
  },
  {
   "cell_type": "code",
   "execution_count": 11,
   "id": "7d4c2237-6a1d-4152-90ae-3622fbe9d4d4",
   "metadata": {},
   "outputs": [
    {
     "name": "stdin",
     "output_type": "stream",
     "text": [
      "Enter your Income in Lakhs: 7\n"
     ]
    },
    {
     "name": "stdout",
     "output_type": "stream",
     "text": [
      "Special Tax rates\n"
     ]
    }
   ],
   "source": [
    "Income=int(input(\"Enter your Income in Lakhs:\"))\n",
    "if ((Income>=2) and (Income<=5)):\n",
    "    print(\"Base Tax\")\n",
    "else: \n",
    "    print(\"Special Tax rates\")"
   ]
  },
  {
   "cell_type": "code",
   "execution_count": 12,
   "id": "132a7a81-b6f2-4577-a73e-1c2e429949a6",
   "metadata": {},
   "outputs": [
    {
     "name": "stdin",
     "output_type": "stream",
     "text": [
      "Enter your Income: 53\n"
     ]
    },
    {
     "name": "stdout",
     "output_type": "stream",
     "text": [
      "Tax rate is 5%\n"
     ]
    }
   ],
   "source": [
    "Income=int(input(\"Enter your Income:\"))\n",
    "if ((Income<=2) or (Income>=50)):\n",
    "    print(\"Tax rate is 5%\")\n",
    "else:\n",
    "    print(\"Tax is 10%\")\n",
    "\n"
   ]
  },
  {
   "cell_type": "code",
   "execution_count": 2,
   "id": "3b9272cc-f151-4951-991e-37a448f003e2",
   "metadata": {},
   "outputs": [
    {
     "name": "stdin",
     "output_type": "stream",
     "text": [
      "Enter your Income: 10\n"
     ]
    },
    {
     "name": "stdout",
     "output_type": "stream",
     "text": [
      "Tax is 10%\n"
     ]
    }
   ],
   "source": [
    "Income=int(input(\"Enter your Income:\"))\n",
    "if ((Income<=2) or (Income>=50)):\n",
    "    print(\"Tax rate is 5%\")\n",
    "else:\n",
    "    print(\"Tax is 10%\")\n",
    "\n"
   ]
  },
  {
   "cell_type": "code",
   "execution_count": 7,
   "id": "20cb2796-8596-4b45-8672-c5d8908f4902",
   "metadata": {},
   "outputs": [
    {
     "name": "stdin",
     "output_type": "stream",
     "text": [
      "Base Price: 50\n",
      "Enter the slab value: 50\n",
      "Road Developement Cess: 50\n",
      "Road Tax: 50\n",
      "Economic sess: 50\n",
      "VAT: 50\n"
     ]
    }
   ],
   "source": [
    "x=input(\"Base Price:\")\n",
    "GST=input(\"Enter the slab value:\")\n",
    "y=input(\"Road Developement Cess:\")\n",
    "z=input(\"Road Tax:\")\n",
    "a=input(\"Economic sess:\")\n",
    "b=input(\"VAT:\")\n"
   ]
  },
  {
   "cell_type": "code",
   "execution_count": 8,
   "id": "bdb84d29-3452-48c1-9477-03ac5ac82e41",
   "metadata": {},
   "outputs": [
    {
     "name": "stdout",
     "output_type": "stream",
     "text": [
      "12550\n"
     ]
    }
   ],
   "source": [
    "f=int(x)+(int(GST)+int(y)+int(z)+int(a)+int(b))*int(x)\n",
    "print(f)"
   ]
  },
  {
   "cell_type": "code",
   "execution_count": 12,
   "id": "322f2c84-c6e4-4cb5-9bbd-7862921ae06c",
   "metadata": {},
   "outputs": [
    {
     "name": "stdin",
     "output_type": "stream",
     "text": [
      "Base Price: 50\n",
      "Road Developement Cess: 50\n",
      "Road Tax: 50\n",
      "Economic sess: 50\n",
      "VAT: 50\n",
      "Slab Number: 2\n"
     ]
    },
    {
     "name": "stdout",
     "output_type": "stream",
     "text": [
      "10050\n"
     ]
    }
   ],
   "source": [
    "x=input(\"Base Price:\")\n",
    "y=input(\"Road Developement Cess:\")\n",
    "z=input(\"Road Tax:\")\n",
    "a=input(\"Economic sess:\")\n",
    "b=input(\"VAT:\")\n",
    "q=int(input(\"Slab Number:\"))\n",
    "if q==1:\n",
    "    p=0/100\n",
    "if q==2:\n",
    "    p=5/100\n",
    "if q==3:\n",
    "    p=12/100\n",
    "if q==4:\n",
    "    p=18/100 \n",
    "if q==5:\n",
    "    p=28/100 \n",
    "f=int(x)+(int(p)+int(y)+int(z)+int(a)+int(b))*int(x)\n",
    "print(f)"
   ]
  },
  {
   "cell_type": "code",
   "execution_count": null,
   "id": "71a99603-71a3-4252-a4d5-adb924f50be5",
   "metadata": {},
   "outputs": [],
   "source": [
    "j=int(input(\"Salary:\"))\n",
    "if j<=250000:\n",
    "    print(\"Zero TAX\")\n",
    "if j<=500000:\n",
    "    print(0.05*j)\n"
   ]
  }
 ],
 "metadata": {
  "kernelspec": {
   "display_name": "Python 3",
   "language": "python",
   "name": "python3"
  },
  "language_info": {
   "codemirror_mode": {
    "name": "ipython",
    "version": 3
   },
   "file_extension": ".py",
   "mimetype": "text/x-python",
   "name": "python",
   "nbconvert_exporter": "python",
   "pygments_lexer": "ipython3",
   "version": "3.8.8"
  }
 },
 "nbformat": 4,
 "nbformat_minor": 5
}
