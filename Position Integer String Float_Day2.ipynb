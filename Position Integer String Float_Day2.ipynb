{
 "cells": [
  {
   "cell_type": "code",
   "execution_count": 1,
   "id": "fe4b96aa-b56c-4f23-a9a0-f1aa2fd5a92d",
   "metadata": {},
   "outputs": [
    {
     "name": "stdin",
     "output_type": "stream",
     "text": [
      "Enter your name: SARAH\n"
     ]
    }
   ],
   "source": [
    "x=input(\"Enter your name:\")"
   ]
  },
  {
   "cell_type": "code",
   "execution_count": 2,
   "id": "e5da02de-1679-4368-ad22-300c8ef7ebe6",
   "metadata": {},
   "outputs": [
    {
     "name": "stdin",
     "output_type": "stream",
     "text": [
      "First No.: 10\n",
      "Second No.: 20\n"
     ]
    }
   ],
   "source": [
    "x=input(\"First No.:\")\n",
    "y=input(\"Second No.:\")\n",
    "z=int(x)+int(y)\n"
   ]
  },
  {
   "cell_type": "code",
   "execution_count": 3,
   "id": "202dc66b-d1ff-4726-8349-cb9cf4a05154",
   "metadata": {},
   "outputs": [
    {
     "name": "stdout",
     "output_type": "stream",
     "text": [
      "30\n"
     ]
    }
   ],
   "source": [
    "print(z)\n",
    "    "
   ]
  },
  {
   "cell_type": "code",
   "execution_count": 4,
   "id": "4b0dd6b1-0e08-4e42-aeb6-be1ffb659135",
   "metadata": {},
   "outputs": [
    {
     "name": "stdin",
     "output_type": "stream",
     "text": [
      "Name: SARAH\n",
      "Year of birth: 2002\n",
      "Place: KOCHI\n",
      "Phone No.: 123456789\n"
     ]
    }
   ],
   "source": [
    "x=input(\"Name:\")\n",
    "y=input(\"Year of birth:\")\n",
    "z=input(\"Place:\")\n",
    "a=input(\"Phone No.:\")"
   ]
  },
  {
   "cell_type": "code",
   "execution_count": 6,
   "id": "50396365-fd16-491c-afea-229fa99753c9",
   "metadata": {},
   "outputs": [],
   "source": [
    "x=\"India is my Country\""
   ]
  },
  {
   "cell_type": "code",
   "execution_count": 7,
   "id": "b73165f0-0241-4348-ad6f-824f4d4aba2e",
   "metadata": {},
   "outputs": [
    {
     "data": {
      "text/plain": [
       "'I'"
      ]
     },
     "execution_count": 7,
     "metadata": {},
     "output_type": "execute_result"
    }
   ],
   "source": [
    "x[0]"
   ]
  },
  {
   "cell_type": "code",
   "execution_count": 8,
   "id": "83323264-6703-43ce-8b11-547307bc9d8b",
   "metadata": {},
   "outputs": [
    {
     "data": {
      "text/plain": [
       "'n'"
      ]
     },
     "execution_count": 8,
     "metadata": {},
     "output_type": "execute_result"
    }
   ],
   "source": [
    "x[1]"
   ]
  },
  {
   "cell_type": "code",
   "execution_count": 9,
   "id": "4d4a9cef-61e9-41ce-8cbc-06bb4bd1b6e8",
   "metadata": {},
   "outputs": [
    {
     "data": {
      "text/plain": [
       "'s'"
      ]
     },
     "execution_count": 9,
     "metadata": {},
     "output_type": "execute_result"
    }
   ],
   "source": [
    "x[7]"
   ]
  },
  {
   "cell_type": "code",
   "execution_count": 17,
   "id": "e795edff-715f-41aa-b8cd-45d1a89be7ad",
   "metadata": {},
   "outputs": [
    {
     "data": {
      "text/plain": [
       "'C'"
      ]
     },
     "execution_count": 17,
     "metadata": {},
     "output_type": "execute_result"
    }
   ],
   "source": [
    "x[12]"
   ]
  },
  {
   "cell_type": "code",
   "execution_count": 13,
   "id": "e75a150c-879b-4594-b59f-3e5718e883b8",
   "metadata": {},
   "outputs": [
    {
     "data": {
      "text/plain": [
       "'y'"
      ]
     },
     "execution_count": 13,
     "metadata": {},
     "output_type": "execute_result"
    }
   ],
   "source": [
    "x[-1]"
   ]
  },
  {
   "cell_type": "code",
   "execution_count": 14,
   "id": "fd19b97a-1c71-4a7f-8205-c3d891232d86",
   "metadata": {},
   "outputs": [
    {
     "data": {
      "text/plain": [
       "'ndia'"
      ]
     },
     "execution_count": 14,
     "metadata": {},
     "output_type": "execute_result"
    }
   ],
   "source": [
    "x[1:5]"
   ]
  },
  {
   "cell_type": "code",
   "execution_count": 16,
   "id": "9b0e04b1-417d-4fd6-92c1-54888f7554c4",
   "metadata": {},
   "outputs": [
    {
     "data": {
      "text/plain": [
       "'is my C'"
      ]
     },
     "execution_count": 16,
     "metadata": {},
     "output_type": "execute_result"
    }
   ],
   "source": [
    "x[6:13]"
   ]
  },
  {
   "cell_type": "code",
   "execution_count": 18,
   "id": "c979dc7c-f8f5-4abe-a25e-993f298ac34b",
   "metadata": {},
   "outputs": [
    {
     "data": {
      "text/plain": [
       "'I'"
      ]
     },
     "execution_count": 18,
     "metadata": {},
     "output_type": "execute_result"
    }
   ],
   "source": [
    "x[0]"
   ]
  },
  {
   "cell_type": "code",
   "execution_count": 19,
   "id": "8bf508c5-600c-4d63-aaa2-29837d2293c4",
   "metadata": {},
   "outputs": [
    {
     "data": {
      "text/plain": [
       "'a'"
      ]
     },
     "execution_count": 19,
     "metadata": {},
     "output_type": "execute_result"
    }
   ],
   "source": [
    "x[4]"
   ]
  },
  {
   "cell_type": "code",
   "execution_count": 20,
   "id": "cdbf3eca-ef25-49aa-9f52-28225e8c29aa",
   "metadata": {},
   "outputs": [
    {
     "data": {
      "text/plain": [
       "' '"
      ]
     },
     "execution_count": 20,
     "metadata": {},
     "output_type": "execute_result"
    }
   ],
   "source": [
    "x[5]"
   ]
  },
  {
   "cell_type": "code",
   "execution_count": 21,
   "id": "067354dd-ba2e-40e5-96ac-bfef82ab6c53",
   "metadata": {},
   "outputs": [
    {
     "data": {
      "text/plain": [
       "'India'"
      ]
     },
     "execution_count": 21,
     "metadata": {},
     "output_type": "execute_result"
    }
   ],
   "source": [
    "x[0:5]"
   ]
  },
  {
   "cell_type": "code",
   "execution_count": null,
   "id": "d939672c-fb6b-4eec-91ea-d0529ef2ded2",
   "metadata": {},
   "outputs": [],
   "source": [
    "\n",
    "\n"
   ]
  },
  {
   "cell_type": "code",
   "execution_count": 2,
   "id": "f1542a6d-5e93-47d2-a364-450863312bde",
   "metadata": {},
   "outputs": [
    {
     "name": "stdin",
     "output_type": "stream",
     "text": [
      "P 5000\n",
      "N 3\n",
      "R 0.05\n"
     ]
    }
   ],
   "source": [
    "x=input(\"P\")\n",
    "y=input(\"N\")\n",
    "z=input(\"R\")\n"
   ]
  },
  {
   "cell_type": "code",
   "execution_count": 5,
   "id": "16518ee1-4bec-45a4-bb74-85620b83ccc3",
   "metadata": {},
   "outputs": [],
   "source": [
    "a=int(x)+int(x)*int(y)*float(z)"
   ]
  },
  {
   "cell_type": "code",
   "execution_count": 6,
   "id": "00954072-23e4-455b-ac5a-de43a1ccefd4",
   "metadata": {},
   "outputs": [
    {
     "name": "stdout",
     "output_type": "stream",
     "text": [
      "5750.0\n"
     ]
    }
   ],
   "source": [
    "print(a)"
   ]
  },
  {
   "cell_type": "code",
   "execution_count": null,
   "id": "849383bc-6276-4d0d-9cee-7522193f17a4",
   "metadata": {},
   "outputs": [],
   "source": []
  }
 ],
 "metadata": {
  "kernelspec": {
   "display_name": "Python 3",
   "language": "python",
   "name": "python3"
  },
  "language_info": {
   "codemirror_mode": {
    "name": "ipython",
    "version": 3
   },
   "file_extension": ".py",
   "mimetype": "text/x-python",
   "name": "python",
   "nbconvert_exporter": "python",
   "pygments_lexer": "ipython3",
   "version": "3.8.8"
  }
 },
 "nbformat": 4,
 "nbformat_minor": 5
}
