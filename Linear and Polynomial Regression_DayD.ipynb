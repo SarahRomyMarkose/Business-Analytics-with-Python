{
 "cells": [
  {
   "cell_type": "code",
   "execution_count": 3,
   "id": "92aee603-6630-4b66-8696-14f4b7a3598a",
   "metadata": {},
   "outputs": [],
   "source": [
    "import numpy as np\n"
   ]
  },
  {
   "cell_type": "code",
   "execution_count": 4,
   "id": "0d4ed48d-d414-4c85-8bc9-c6fefb3cb741",
   "metadata": {},
   "outputs": [],
   "source": [
    "x=np.array([1,2,3,4,5,6,7,8,9,10,11,12,13])\n",
    "y=np.array([1859.4,2110.2,2018,1966,2166,2118,2054.3,2273,2501.95,2536.25,2433,2365,2451.2])"
   ]
  },
  {
   "cell_type": "code",
   "execution_count": 5,
   "id": "7d417153-4ddc-4f24-8a22-8d66e8b88ee8",
   "metadata": {},
   "outputs": [],
   "source": [
    "x=x.reshape(-1,1)"
   ]
  },
  {
   "cell_type": "code",
   "execution_count": 6,
   "id": "34080940-a6d1-4fa4-afad-f2716fac024b",
   "metadata": {},
   "outputs": [],
   "source": [
    "from sklearn.linear_model import LinearRegression #STANDARD COMMAND.MOST IMPORTANT LIBRARY USED FOR AI."
   ]
  },
  {
   "cell_type": "code",
   "execution_count": 11,
   "id": "c32ff8c7-02e5-4668-8b82-a889c5e9100e",
   "metadata": {},
   "outputs": [],
   "source": [
    "reg=LinearRegression().fit(x,y) #after importing, we type the name of the formula we require on this and the above commands + fit(x,y) takes "
   ]
  },
  {
   "cell_type": "code",
   "execution_count": 9,
   "id": "fb49ee5b-426c-4381-8a4d-8e08d728ac04",
   "metadata": {},
   "outputs": [
    {
     "data": {
      "text/plain": [
       "array([1921.96428571, 1971.53818681, 2021.11208791, 2070.68598901,\n",
       "       2120.25989011, 2169.83379121, 2219.40769231, 2268.98159341,\n",
       "       2318.55549451, 2368.1293956 , 2417.7032967 , 2467.2771978 ,\n",
       "       2516.8510989 ])"
      ]
     },
     "execution_count": 9,
     "metadata": {},
     "output_type": "execute_result"
    }
   ],
   "source": [
    "ynew=reg.predict(x)\n",
    "ynew"
   ]
  },
  {
   "cell_type": "code",
   "execution_count": 10,
   "id": "e974a5c2-2947-4866-a876-7422e2f35c44",
   "metadata": {},
   "outputs": [
    {
     "data": {
      "text/plain": [
       "[<matplotlib.lines.Line2D at 0x1d989fcfca0>]"
      ]
     },
     "execution_count": 10,
     "metadata": {},
     "output_type": "execute_result"
    },
    {
     "data": {
      "image/png": "[encoded data removed]",
      "text/plain": [
       "<Figure size 432x288 with 1 Axes>"
      ]
     },
     "metadata": {
      "needs_background": "light"
     },
     "output_type": "display_data"
    }
   ],
   "source": [
    "import matplotlib.pyplot as plt\n",
    "plt.scatter(x,y)\n",
    "plt.plot(x,ynew)"
   ]
  },
  {
   "cell_type": "code",
   "execution_count": 18,
   "id": "0b53ffb9-d44d-4f2f-8e1b-aa820492f401",
   "metadata": {},
   "outputs": [],
   "source": [
    "import pandas as pd"
   ]
  },
  {
   "cell_type": "code",
   "execution_count": 20,
   "id": "22c6cd91-cb81-46e2-b1b1-849ed837bc52",
   "metadata": {},
   "outputs": [
    {
     "data": {
      "text/html": [
       "<div>\n",
       "<style scoped>\n",
       "    .dataframe tbody tr th:only-of-type {\n",
       "        vertical-align: middle;\n",
       "    }\n",
       "\n",
       "    .dataframe tbody tr th {\n",
       "        vertical-align: top;\n",
       "    }\n",
       "\n",
       "    .dataframe thead th {\n",
       "        text-align: right;\n",
       "    }\n",
       "</style>\n",
       "<table border=\"1\" class=\"dataframe\">\n",
       "  <thead>\n",
       "    <tr style=\"text-align: right;\">\n",
       "      <th></th>\n",
       "      <th>Date</th>\n",
       "      <th>Open</th>\n",
       "    </tr>\n",
       "  </thead>\n",
       "  <tbody>\n",
       "    <tr>\n",
       "      <th>0</th>\n",
       "      <td>1</td>\n",
       "      <td>665.000000</td>\n",
       "    </tr>\n",
       "    <tr>\n",
       "      <th>1</th>\n",
       "      <td>2</td>\n",
       "      <td>738.000000</td>\n",
       "    </tr>\n",
       "    <tr>\n",
       "      <th>2</th>\n",
       "      <td>3</td>\n",
       "      <td>706.299988</td>\n",
       "    </tr>\n",
       "    <tr>\n",
       "      <th>3</th>\n",
       "      <td>4</td>\n",
       "      <td>706.000000</td>\n",
       "    </tr>\n",
       "    <tr>\n",
       "      <th>4</th>\n",
       "      <td>5</td>\n",
       "      <td>753.549988</td>\n",
       "    </tr>\n",
       "    <tr>\n",
       "      <th>5</th>\n",
       "      <td>6</td>\n",
       "      <td>750.000000</td>\n",
       "    </tr>\n",
       "    <tr>\n",
       "      <th>6</th>\n",
       "      <td>7</td>\n",
       "      <td>715.000000</td>\n",
       "    </tr>\n",
       "    <tr>\n",
       "      <th>7</th>\n",
       "      <td>8</td>\n",
       "      <td>798.099976</td>\n",
       "    </tr>\n",
       "    <tr>\n",
       "      <th>8</th>\n",
       "      <td>9</td>\n",
       "      <td>763.400024</td>\n",
       "    </tr>\n",
       "    <tr>\n",
       "      <th>9</th>\n",
       "      <td>10</td>\n",
       "      <td>755.000000</td>\n",
       "    </tr>\n",
       "    <tr>\n",
       "      <th>10</th>\n",
       "      <td>11</td>\n",
       "      <td>664.900024</td>\n",
       "    </tr>\n",
       "    <tr>\n",
       "      <th>11</th>\n",
       "      <td>12</td>\n",
       "      <td>680.250000</td>\n",
       "    </tr>\n",
       "    <tr>\n",
       "      <th>12</th>\n",
       "      <td>13</td>\n",
       "      <td>734.000000</td>\n",
       "    </tr>\n",
       "  </tbody>\n",
       "</table>\n",
       "</div>"
      ],
      "text/plain": [
       "    Date        Open\n",
       "0      1  665.000000\n",
       "1      2  738.000000\n",
       "2      3  706.299988\n",
       "3      4  706.000000\n",
       "4      5  753.549988\n",
       "5      6  750.000000\n",
       "6      7  715.000000\n",
       "7      8  798.099976\n",
       "8      9  763.400024\n",
       "9     10  755.000000\n",
       "10    11  664.900024\n",
       "11    12  680.250000\n",
       "12    13  734.000000"
      ]
     },
     "execution_count": 20,
     "metadata": {},
     "output_type": "execute_result"
    }
   ],
   "source": [
    "dataset=pd.read_csv('AXISBANK.NS (1).csv')\n",
    "dataset"
   ]
  },
  {
   "cell_type": "code",
   "execution_count": 21,
   "id": "86c65413-c2e9-4ead-8661-a6adedbacda4",
   "metadata": {},
   "outputs": [],
   "source": [
    "x=dataset.iloc[:,:-1].values #\n",
    "y=dataset.iloc[:,-1].values"
   ]
  },
  {
   "cell_type": "code",
   "execution_count": 22,
   "id": "992bbcfe-cbd3-4e92-a8f7-e994d9bae414",
   "metadata": {},
   "outputs": [],
   "source": [
    "from sklearn.linear_model import LinearRegression"
   ]
  },
  {
   "cell_type": "code",
   "execution_count": 23,
   "id": "e8bfe0f1-7398-461d-a699-96c2049f6a66",
   "metadata": {},
   "outputs": [
    {
     "data": {
      "text/plain": [
       "LinearRegression()"
      ]
     },
     "execution_count": 23,
     "metadata": {},
     "output_type": "execute_result"
    }
   ],
   "source": [
    "reg=LinearRegression()\n",
    "reg.fit(x,y)"
   ]
  },
  {
   "cell_type": "code",
   "execution_count": 26,
   "id": "e4871669-1458-4f20-b0b8-4ee641fba7ac",
   "metadata": {},
   "outputs": [
    {
     "data": {
      "text/plain": [
       "array([719.59504862, 720.55356615, 721.51208369, 722.47060123,\n",
       "       723.42911877, 724.38763631, 725.34615385, 726.30467138,\n",
       "       727.26318892, 728.22170646, 729.180224  , 730.13874154,\n",
       "       731.09725908])"
      ]
     },
     "execution_count": 26,
     "metadata": {},
     "output_type": "execute_result"
    }
   ],
   "source": [
    "ynew=reg.predict(x)\n",
    "ynew"
   ]
  },
  {
   "cell_type": "code",
   "execution_count": 27,
   "id": "1c4d5271-bc9a-4452-89bb-6e718dcac4a1",
   "metadata": {},
   "outputs": [
    {
     "data": {
      "text/plain": [
       "[<matplotlib.lines.Line2D at 0x1d98bed84f0>]"
      ]
     },
     "execution_count": 27,
     "metadata": {},
     "output_type": "execute_result"
    },
    {
     "data": {
      "image/png": "[encoded data removed]",
      "text/plain": [
       "<Figure size 432x288 with 1 Axes>"
      ]
     },
     "metadata": {
      "needs_background": "light"
     },
     "output_type": "display_data"
    }
   ],
   "source": [
    "import matplotlib.pyplot as plt\n",
    "plt.scatter(x,y)\n",
    "plt.plot(x,ynew)"
   ]
  },
  {
   "cell_type": "code",
   "execution_count": 28,
   "id": "088700b9-c9b3-4334-b3cc-571d6928f94c",
   "metadata": {},
   "outputs": [],
   "source": [
    "from sklearn.preprocessing import PolynomialFeatures"
   ]
  },
  {
   "cell_type": "code",
   "execution_count": 59,
   "id": "51677340-1b49-4007-aef5-995d06d52ac2",
   "metadata": {},
   "outputs": [],
   "source": [
    "poly_reg=PolynomialFeatures(degree=4) #Do degree of 30 as well"
   ]
  },
  {
   "cell_type": "code",
   "execution_count": 54,
   "id": "245b5148-569d-4c46-aba7-ee2987929821",
   "metadata": {},
   "outputs": [],
   "source": [
    "x_poly=poly_reg.fit_transform(x)"
   ]
  },
  {
   "cell_type": "code",
   "execution_count": 55,
   "id": "5f3aa332-f32c-4109-a6cf-de3609f82200",
   "metadata": {},
   "outputs": [],
   "source": [
    "LG=LinearRegression()"
   ]
  },
  {
   "cell_type": "code",
   "execution_count": 56,
   "id": "1f120b82-b475-400b-a7a9-c3c115831ab4",
   "metadata": {},
   "outputs": [
    {
     "data": {
      "text/plain": [
       "LinearRegression()"
      ]
     },
     "execution_count": 56,
     "metadata": {},
     "output_type": "execute_result"
    }
   ],
   "source": [
    "LG.fit(x_poly,y)"
   ]
  },
  {
   "cell_type": "code",
   "execution_count": 57,
   "id": "a87fa1ee-50d8-4783-8ddf-32f1d3cc3d40",
   "metadata": {},
   "outputs": [],
   "source": [
    "y_pred=LG.predict(poly_reg.fit_transform(x))"
   ]
  },
  {
   "cell_type": "code",
   "execution_count": 58,
   "id": "2d7a476b-afaf-4583-ba95-9da63e6a617a",
   "metadata": {},
   "outputs": [
    {
     "data": {
      "text/plain": [
       "[<matplotlib.lines.Line2D at 0x1d98c104880>]"
      ]
     },
     "execution_count": 58,
     "metadata": {},
     "output_type": "execute_result"
    },
    {
     "data": {
      "image/png": "[encoded data removed]",
      "text/plain": [
       "<Figure size 432x288 with 1 Axes>"
      ]
     },
     "metadata": {
      "needs_background": "light"
     },
     "output_type": "display_data"
    }
   ],
   "source": [
    "plt.scatter(x,y,color='red')\n",
    "plt.plot(x,y_pred)"
   ]
  },
  {
   "cell_type": "code",
   "execution_count": null,
   "id": "2d8678ed-e18a-46be-852d-352536400e24",
   "metadata": {},
   "outputs": [],
   "source": []
  }
 ],
 "metadata": {
  "kernelspec": {
   "display_name": "Python 3",
   "language": "python",
   "name": "python3"
  },
  "language_info": {
   "codemirror_mode": {
    "name": "ipython",
    "version": 3
   },
   "file_extension": ".py",
   "mimetype": "text/x-python",
   "name": "python",
   "nbconvert_exporter": "python",
   "pygments_lexer": "ipython3",
   "version": "3.8.8"
  }
 },
 "nbformat": 4,
 "nbformat_minor": 5
}
