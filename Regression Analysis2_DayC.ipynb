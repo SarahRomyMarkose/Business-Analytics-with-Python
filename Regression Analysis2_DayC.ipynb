{
 "cells": [
  {
   "cell_type": "code",
   "execution_count": 3,
   "id": "175597cd-cafb-46df-8098-46e3a1143066",
   "metadata": {},
   "outputs": [],
   "source": [
    "import numpy as np"
   ]
  },
  {
   "cell_type": "code",
   "execution_count": 4,
   "id": "1b12a8fd-a2d5-423d-a6bd-be0c1323ef0a",
   "metadata": {},
   "outputs": [],
   "source": [
    "x=np.array([1,2,3,4,5,6,7,8,9,10,11,12,13])\n",
    "y=np.array([1859.4,2110.2,2018,1966,2166,2118,2054.3,2273,2501.95,2536.25,2433,2365,2451.2])"
   ]
  },
  {
   "cell_type": "code",
   "execution_count": 5,
   "id": "79abad47-068d-43c3-93a8-da770d2bbbb3",
   "metadata": {},
   "outputs": [
    {
     "data": {
      "text/plain": [
       "7.0"
      ]
     },
     "execution_count": 5,
     "metadata": {},
     "output_type": "execute_result"
    }
   ],
   "source": [
    "#Find xdash\n",
    "xdash=np.mean(x)\n",
    "xdash"
   ]
  },
  {
   "cell_type": "code",
   "execution_count": 7,
   "id": "cad93017-8c0a-4a73-9bf8-4db4c690635f",
   "metadata": {},
   "outputs": [
    {
     "data": {
      "text/plain": [
       "2219.4076923076927"
      ]
     },
     "execution_count": 7,
     "metadata": {},
     "output_type": "execute_result"
    }
   ],
   "source": [
    "#Find ydash\n",
    "ydash=np.mean(y)\n",
    "ydash"
   ]
  },
  {
   "cell_type": "code",
   "execution_count": 8,
   "id": "a2188184-6e1d-4380-a171-0d277368bd42",
   "metadata": {},
   "outputs": [
    {
     "data": {
      "text/plain": [
       "array([2160.04615385,  546.03846154,  805.63076923,  760.22307692,\n",
       "        106.81538462,  101.40769231,   -0.        ,   53.59230769,\n",
       "        565.08461538,  950.52692308,  854.36923077,  727.96153846,\n",
       "       1390.75384615])"
      ]
     },
     "execution_count": 8,
     "metadata": {},
     "output_type": "execute_result"
    }
   ],
   "source": [
    "p=(x-xdash)*(y-ydash)\n",
    "p"
   ]
  },
  {
   "cell_type": "code",
   "execution_count": 9,
   "id": "ad7c24eb-b959-498b-bc24-62a607124e7c",
   "metadata": {},
   "outputs": [
    {
     "data": {
      "text/plain": [
       "9022.449999999999"
      ]
     },
     "execution_count": 9,
     "metadata": {},
     "output_type": "execute_result"
    }
   ],
   "source": [
    "J=sum(p)\n",
    "J"
   ]
  },
  {
   "cell_type": "code",
   "execution_count": 11,
   "id": "e9273e20-5ab6-4dc5-ba70-442adca7c17f",
   "metadata": {},
   "outputs": [
    {
     "data": {
      "text/plain": [
       "array([36., 25., 16.,  9.,  4.,  1.,  0.,  1.,  4.,  9., 16., 25., 36.])"
      ]
     },
     "execution_count": 11,
     "metadata": {},
     "output_type": "execute_result"
    }
   ],
   "source": [
    "q=(x-xdash)*(x-xdash)\n",
    "q"
   ]
  },
  {
   "cell_type": "code",
   "execution_count": 14,
   "id": "d9d5f89b-8a19-4754-abb0-4a712c6a5ea3",
   "metadata": {},
   "outputs": [
    {
     "data": {
      "text/plain": [
       "182.0"
      ]
     },
     "execution_count": 14,
     "metadata": {},
     "output_type": "execute_result"
    }
   ],
   "source": [
    "K=sum(q)\n",
    "K"
   ]
  },
  {
   "cell_type": "code",
   "execution_count": 15,
   "id": "af24ca54-e4e9-4a0b-b573-64896a97f36f",
   "metadata": {},
   "outputs": [
    {
     "data": {
      "text/plain": [
       "49.573901098901096"
      ]
     },
     "execution_count": 15,
     "metadata": {},
     "output_type": "execute_result"
    }
   ],
   "source": [
    "# M is the slope\n",
    "M=J/K\n",
    "M"
   ]
  },
  {
   "cell_type": "code",
   "execution_count": 16,
   "id": "ec35fdb0-0854-4bbd-bdce-41814d021602",
   "metadata": {},
   "outputs": [],
   "source": [
    "#To find C (Intercept)\n",
    "#C= ydash-m*xdash"
   ]
  },
  {
   "cell_type": "code",
   "execution_count": 17,
   "id": "6558ffb9-8d47-466c-8a81-677eebee8737",
   "metadata": {},
   "outputs": [
    {
     "data": {
      "text/plain": [
       "1872.390384615385"
      ]
     },
     "execution_count": 17,
     "metadata": {},
     "output_type": "execute_result"
    }
   ],
   "source": [
    "C=ydash-M*xdash\n",
    "C"
   ]
  },
  {
   "cell_type": "code",
   "execution_count": 18,
   "id": "b5028e0e-bc7c-4f43-b9d1-0b05afb947f2",
   "metadata": {},
   "outputs": [
    {
     "data": {
      "text/plain": [
       "array([1921.96428571, 1971.53818681, 2021.11208791, 2070.68598901,\n",
       "       2120.25989011, 2169.83379121, 2219.40769231, 2268.98159341,\n",
       "       2318.55549451, 2368.1293956 , 2417.7032967 , 2467.2771978 ,\n",
       "       2516.8510989 ])"
      ]
     },
     "execution_count": 18,
     "metadata": {},
     "output_type": "execute_result"
    }
   ],
   "source": [
    "Ynew=M*x+C\n",
    "Ynew\n"
   ]
  },
  {
   "cell_type": "code",
   "execution_count": 19,
   "id": "cb03643a-3581-4d6e-84a8-d4d8f92b5f05",
   "metadata": {},
   "outputs": [],
   "source": [
    "import matplotlib.pyplot as plt"
   ]
  },
  {
   "cell_type": "code",
   "execution_count": 20,
   "id": "1dcd886c-7b1b-43e3-962e-d0373f6874d5",
   "metadata": {},
   "outputs": [
    {
     "data": {
      "text/plain": [
       "[<matplotlib.lines.Line2D at 0x1b716af7310>]"
      ]
     },
     "execution_count": 20,
     "metadata": {},
     "output_type": "execute_result"
    },
    {
     "data": {
      "image/png": "[encoded data removed]",
      "text/plain": [
       "<Figure size 432x288 with 1 Axes>"
      ]
     },
     "metadata": {
      "needs_background": "light"
     },
     "output_type": "display_data"
    }
   ],
   "source": [
    "plt.scatter(x,y)\n",
    "plt.plot(x,Ynew)"
   ]
  },
  {
   "cell_type": "code",
   "execution_count": 21,
   "id": "d4f892ea-0be7-4720-bd44-d43c57177da1",
   "metadata": {},
   "outputs": [
    {
     "data": {
      "text/plain": [
       "2566.425"
      ]
     },
     "execution_count": 21,
     "metadata": {},
     "output_type": "execute_result"
    }
   ],
   "source": [
    "Y14=M*14+C #Now, with this formula, we can find the value for the 14th month\n",
    "Y14"
   ]
  },
  {
   "cell_type": "code",
   "execution_count": 22,
   "id": "74bf1317-2fc3-427c-a9e6-23c0bb877352",
   "metadata": {},
   "outputs": [],
   "source": [
    "#Now to extend the graph to the 14th value, enter '14' in x and '2566.425' in y"
   ]
  },
  {
   "cell_type": "code",
   "execution_count": 23,
   "id": "b0b50edf-0543-47a1-bc75-e5c0f941bf25",
   "metadata": {},
   "outputs": [],
   "source": [
    "#If, by chance, there is a zero in the denominator (0 in x or y), the above method will show an error\n",
    "#Therefore, the following formula can be used\n",
    "# slope= n(sum of xy)-(sum of x)(sum of y)/n(sum of x^2)-(sum of x)^2\n",
    "# y-intercept= y`-slope*x`\n",
    "\n",
    "# here, n is number of values (here, it is the no. of months)"
   ]
  },
  {
   "cell_type": "code",
   "execution_count": 40,
   "id": "35887368-7242-4a0c-8d33-17bd839e17f8",
   "metadata": {},
   "outputs": [
    {
     "data": {
      "text/plain": [
       "210988.55000000002"
      ]
     },
     "execution_count": 40,
     "metadata": {},
     "output_type": "execute_result"
    }
   ],
   "source": [
    "q=sum(x*y)\n",
    "q"
   ]
  },
  {
   "cell_type": "code",
   "execution_count": 41,
   "id": "b9e235c4-0cc5-4d72-ba71-c211aa388c94",
   "metadata": {},
   "outputs": [
    {
     "data": {
      "text/plain": [
       "2953839.7"
      ]
     },
     "execution_count": 41,
     "metadata": {},
     "output_type": "execute_result"
    }
   ],
   "source": [
    "u=14*q\n",
    "u"
   ]
  },
  {
   "cell_type": "code",
   "execution_count": 42,
   "id": "0ddd06f4-3d80-4c16-9c83-e091584fdb58",
   "metadata": {},
   "outputs": [
    {
     "data": {
      "text/plain": [
       "2625559.3000000003"
      ]
     },
     "execution_count": 42,
     "metadata": {},
     "output_type": "execute_result"
    }
   ],
   "source": [
    "w=sum(x)*sum(y)\n",
    "w"
   ]
  },
  {
   "cell_type": "code",
   "execution_count": 43,
   "id": "bb99e89c-4505-4f3f-ae4d-89468a52b0e5",
   "metadata": {},
   "outputs": [
    {
     "data": {
      "text/plain": [
       "328280.3999999999"
      ]
     },
     "execution_count": 43,
     "metadata": {},
     "output_type": "execute_result"
    }
   ],
   "source": [
    "i=u-w\n",
    "i"
   ]
  },
  {
   "cell_type": "code",
   "execution_count": 38,
   "id": "0c3cc488-ae3f-4ff4-aa68-c1cb4f8dfd03",
   "metadata": {},
   "outputs": [
    {
     "data": {
      "text/plain": [
       "array([  1,   4,   9,  16,  25,  36,  49,  64,  81, 100, 121, 144, 169])"
      ]
     },
     "execution_count": 38,
     "metadata": {},
     "output_type": "execute_result"
    }
   ],
   "source": [
    "e=x*x\n",
    "e"
   ]
  },
  {
   "cell_type": "code",
   "execution_count": 44,
   "id": "997fac30-93cc-4c4f-b5e6-1ff5692b4e30",
   "metadata": {},
   "outputs": [
    {
     "data": {
      "text/plain": [
       "array([  14,   56,  126,  224,  350,  504,  686,  896, 1134, 1400, 1694,\n",
       "       2016, 2366])"
      ]
     },
     "execution_count": 44,
     "metadata": {},
     "output_type": "execute_result"
    }
   ],
   "source": [
    "a=14*e\n",
    "a"
   ]
  },
  {
   "cell_type": "code",
   "execution_count": 45,
   "id": "e9a5a537-04f2-45cf-aeed-5268be4b2774",
   "metadata": {},
   "outputs": [
    {
     "data": {
      "text/plain": [
       "11466"
      ]
     },
     "execution_count": 45,
     "metadata": {},
     "output_type": "execute_result"
    }
   ],
   "source": [
    "r=sum(a)\n",
    "r"
   ]
  },
  {
   "cell_type": "code",
   "execution_count": 46,
   "id": "00d7e430-8878-4192-a562-181679b7ecb5",
   "metadata": {},
   "outputs": [
    {
     "data": {
      "text/plain": [
       "8281"
      ]
     },
     "execution_count": 46,
     "metadata": {},
     "output_type": "execute_result"
    }
   ],
   "source": [
    "t=sum(x)*sum(x)\n",
    "t"
   ]
  },
  {
   "cell_type": "code",
   "execution_count": 47,
   "id": "0a57b640-bb49-403b-881a-860a29ad189a",
   "metadata": {},
   "outputs": [
    {
     "data": {
      "text/plain": [
       "3185"
      ]
     },
     "execution_count": 47,
     "metadata": {},
     "output_type": "execute_result"
    }
   ],
   "source": [
    "o=r-t\n",
    "o"
   ]
  },
  {
   "cell_type": "code",
   "execution_count": 57,
   "id": "c348daba-c083-4231-97e3-a0ad3192a2c6",
   "metadata": {},
   "outputs": [
    {
     "data": {
      "text/plain": [
       "103.0707692307692"
      ]
     },
     "execution_count": 57,
     "metadata": {},
     "output_type": "execute_result"
    }
   ],
   "source": [
    "slope=i/o\n",
    "slope #xxxx 49.573"
   ]
  },
  {
   "cell_type": "code",
   "execution_count": 56,
   "id": "5ed65df4-c1e1-4bf4-8376-1f966857bc6e",
   "metadata": {},
   "outputs": [
    {
     "data": {
      "text/plain": [
       "1497.9123076923083"
      ]
     },
     "execution_count": 56,
     "metadata": {},
     "output_type": "execute_result"
    }
   ],
   "source": [
    "yint=ydash-slope*xdash\n",
    "yint #XXXX1872.39"
   ]
  },
  {
   "cell_type": "code",
   "execution_count": 54,
   "id": "907f2014-f611-4b59-88f4-a86e25824943",
   "metadata": {},
   "outputs": [
    {
     "data": {
      "text/plain": [
       "array([1600.98307692, 1704.05384615, 1807.12461538, 1910.19538462,\n",
       "       2013.26615385, 2116.33692308, 2219.40769231, 2322.47846154,\n",
       "       2425.54923077, 2528.62      , 2631.69076923, 2734.76153846,\n",
       "       2837.83230769])"
      ]
     },
     "execution_count": 54,
     "metadata": {},
     "output_type": "execute_result"
    }
   ],
   "source": [
    "YFRESH=slope*x+yint\n",
    "YFRESH\n"
   ]
  },
  {
   "cell_type": "code",
   "execution_count": 55,
   "id": "77bb6742-33a3-49b0-940f-471056db5a08",
   "metadata": {},
   "outputs": [
    {
     "data": {
      "text/plain": [
       "[<matplotlib.lines.Line2D at 0x1b716b1d850>]"
      ]
     },
     "execution_count": 55,
     "metadata": {},
     "output_type": "execute_result"
    },
    {
     "data": {
      "image/png": "[encoded data removed]",
      "text/plain": [
       "<Figure size 432x288 with 1 Axes>"
      ]
     },
     "metadata": {
      "needs_background": "light"
     },
     "output_type": "display_data"
    }
   ],
   "source": [
    "import matplotlib.pyplot as plt\n",
    "plt.scatter(x,y)\n",
    "plt.plot(x,YFRESH)"
   ]
  },
  {
   "cell_type": "code",
   "execution_count": 1,
   "id": "e11bfd3f-637b-46bd-9156-294fde65c998",
   "metadata": {},
   "outputs": [],
   "source": [
    "#Regression Analysis "
   ]
  },
  {
   "cell_type": "code",
   "execution_count": null,
   "id": "b588fa85-af16-4ffc-856d-421b449dd572",
   "metadata": {},
   "outputs": [],
   "source": [
    "#Formula\n",
    "# slope= n(sum of xy)-(sum of x)(sum of y)/n(sum of x^2)-(sum of x)^2\n",
    "# y-intercept= y`-slope*x`"
   ]
  }
 ],
 "metadata": {
  "kernelspec": {
   "display_name": "Python 3",
   "language": "python",
   "name": "python3"
  },
  "language_info": {
   "codemirror_mode": {
    "name": "ipython",
    "version": 3
   },
   "file_extension": ".py",
   "mimetype": "text/x-python",
   "name": "python",
   "nbconvert_exporter": "python",
   "pygments_lexer": "ipython3",
   "version": "3.8.8"
  }
 },
 "nbformat": 4,
 "nbformat_minor": 5
}
