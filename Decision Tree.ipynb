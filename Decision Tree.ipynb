{
 "cells": [
  {
   "cell_type": "code",
   "execution_count": null,
   "id": "15bb6af4-ec3e-4660-b8e1-cfa3ea098c8e",
   "metadata": {},
   "outputs": [],
   "source": [
    "# DECISION TREE\n",
    "# [Freq. asked MCQ] --> Root note (Main/source), Internal note( Middle), Leaf note(Terminal).\\\n",
    "# Entropy and GINI Index\n",
    "\n",
    "# GAIN, C4.5, C5.5 ALGORITHM\n",
    "\n",
    "\n",
    "### IMPORTANT THEORY Qs --> Refer notes"
   ]
  },
  {
   "cell_type": "code",
   "execution_count": 8,
   "id": "91cbd241-0db9-4d77-94dd-fa3d0df35908",
   "metadata": {},
   "outputs": [],
   "source": [
    "import numpy as np\n",
    "import matplotlib.pyplot as plt\n",
    "import pandas as pd"
   ]
  },
  {
   "cell_type": "code",
   "execution_count": 9,
   "id": "8d6c743e-46ba-4c44-99ca-da9bf6dff527",
   "metadata": {},
   "outputs": [],
   "source": [
    "dataset=pd.read_excel(\"Linear regression 1.xlsx\")"
   ]
  },
  {
   "cell_type": "code",
   "execution_count": 10,
   "id": "e2d6119f-13f1-400d-a870-d7362723726f",
   "metadata": {},
   "outputs": [
    {
     "data": {
      "text/plain": [
       "array([[ 1],\n",
       "       [ 2],\n",
       "       [ 3],\n",
       "       [ 4],\n",
       "       [ 5],\n",
       "       [ 6],\n",
       "       [ 7],\n",
       "       [ 8],\n",
       "       [ 9],\n",
       "       [10]], dtype=int64)"
      ]
     },
     "execution_count": 10,
     "metadata": {},
     "output_type": "execute_result"
    }
   ],
   "source": [
    "x=dataset.iloc[:,:-1].values   # when 'iloc[:,:-1]' is given, all the contents present in the row will be taken (since, ':' is given) and all the columns except the last will be taken since ':-1' is given --> This is defined as 'x'. *** NOTE: in 'iloc[:,:-1]', the ':' / first part inside the bracket represents rows and the last part implies columns.   \n",
    "x"
   ]
  },
  {
   "cell_type": "code",
   "execution_count": 11,
   "id": "650350aa-286c-4b94-b75e-7c227f7ea882",
   "metadata": {},
   "outputs": [
    {
     "data": {
      "text/plain": [
       "array([ 3, 10, 15, 12, 10, 18, 21, 40, 45, 40], dtype=int64)"
      ]
     },
     "execution_count": 11,
     "metadata": {},
     "output_type": "execute_result"
    }
   ],
   "source": [
    "y=dataset.iloc[:,-1].values  # when 'iloc[:,1]' is given, all the contents present in the row will be taken (since, ':' is given) and ONLY last column will be taken since ':-1' is given --> This is defined as 'y'.\n",
    "y"
   ]
  },
  {
   "cell_type": "code",
   "execution_count": 12,
   "id": "dede8261-a02a-46f3-9cf1-1ea4d5c78fe4",
   "metadata": {},
   "outputs": [
    {
     "data": {
      "text/plain": [
       "DecisionTreeRegressor(random_state=0)"
      ]
     },
     "execution_count": 12,
     "metadata": {},
     "output_type": "execute_result"
    }
   ],
   "source": [
    "from sklearn.tree import DecisionTreeRegressor\n",
    "regressor=DecisionTreeRegressor(random_state=0)\n",
    "regressor.fit(x,y)"
   ]
  },
  {
   "cell_type": "code",
   "execution_count": 14,
   "id": "e6cf1d78-716f-48e0-bda1-2df9e66743a7",
   "metadata": {},
   "outputs": [
    {
     "data": {
      "text/plain": [
       "array([ 3., 10., 15., 12., 10., 18., 21., 40., 45., 40.])"
      ]
     },
     "execution_count": 14,
     "metadata": {},
     "output_type": "execute_result"
    }
   ],
   "source": [
    "ypred=regressor.predict(x)\n",
    "ypred"
   ]
  },
  {
   "cell_type": "code",
   "execution_count": 15,
   "id": "b918c1fd-a816-46ab-b44f-60592b394a4f",
   "metadata": {},
   "outputs": [
    {
     "data": {
      "image/png": "[encoded data removed]",
      "text/plain": [
       "<Figure size 432x288 with 1 Axes>"
      ]
     },
     "metadata": {
      "needs_background": "light"
     },
     "output_type": "display_data"
    }
   ],
   "source": [
    "plt.scatter(x,y, color='red')\n",
    "plt.plot(x, regressor.predict(x), color= 'blue')\n",
    "plt.xlabel('Package')\n",
    "plt.ylabel('Sales')\n",
    "plt.show()"
   ]
  },
  {
   "cell_type": "code",
   "execution_count": null,
   "id": "7565cac9-c382-4684-83a5-732e5b176b45",
   "metadata": {},
   "outputs": [],
   "source": []
  }
 ],
 "metadata": {
  "kernelspec": {
   "display_name": "Python 3",
   "language": "python",
   "name": "python3"
  },
  "language_info": {
   "codemirror_mode": {
    "name": "ipython",
    "version": 3
   },
   "file_extension": ".py",
   "mimetype": "text/x-python",
   "name": "python",
   "nbconvert_exporter": "python",
   "pygments_lexer": "ipython3",
   "version": "3.8.8"
  }
 },
 "nbformat": 4,
 "nbformat_minor": 5
}
