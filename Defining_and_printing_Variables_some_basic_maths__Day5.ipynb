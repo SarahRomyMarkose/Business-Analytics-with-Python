{
 "cells": [
  {
   "cell_type": "code",
   "execution_count": 1,
   "id": "8941a170-a66f-4548-adc8-a24c714696f7",
   "metadata": {},
   "outputs": [
    {
     "data": {
      "text/plain": [
       "300"
      ]
     },
     "execution_count": 1,
     "metadata": {},
     "output_type": "execute_result"
    }
   ],
   "source": [
    "xx=100\n",
    "xy=200\n",
    "xx+xy"
   ]
  },
  {
   "cell_type": "code",
   "execution_count": 2,
   "id": "58f25ae6-10be-40a2-9e15-60b030894004",
   "metadata": {},
   "outputs": [
    {
     "data": {
      "text/plain": [
       "300"
      ]
     },
     "execution_count": 2,
     "metadata": {},
     "output_type": "execute_result"
    }
   ],
   "source": [
    "Sarah=100\n",
    "Romy=200\n",
    "Sarah+Romy"
   ]
  },
  {
   "cell_type": "code",
   "execution_count": 5,
   "id": "a401110a-6c9d-490e-9046-ad7120a087b3",
   "metadata": {},
   "outputs": [
    {
     "ename": "NameError",
     "evalue": "name 'ptint' is not defined",
     "output_type": "error",
     "traceback": [
      "\u001b[1;31m---------------------------------------------------------------------------\u001b[0m",
      "\u001b[1;31mNameError\u001b[0m                                 Traceback (most recent call last)",
      "\u001b[1;32m<ipython-input-5-a579cf67db2b>\u001b[0m in \u001b[0;36m<module>\u001b[1;34m\u001b[0m\n\u001b[1;32m----> 1\u001b[1;33m \u001b[0mprint\u001b[0m\u001b[1;33m(\u001b[0m\u001b[0mptint\u001b[0m\u001b[1;33m)\u001b[0m\u001b[1;33m\u001b[0m\u001b[1;33m\u001b[0m\u001b[0m\n\u001b[0m",
      "\u001b[1;31mNameError\u001b[0m: name 'ptint' is not defined"
     ]
    }
   ],
   "source": [
    "print(ptint)"
   ]
  },
  {
   "cell_type": "code",
   "execution_count": 3,
   "id": "006a75b8-e584-451c-b845-38e84c089436",
   "metadata": {},
   "outputs": [
    {
     "data": {
      "text/plain": [
       "20"
      ]
     },
     "execution_count": 3,
     "metadata": {},
     "output_type": "execute_result"
    }
   ],
   "source": [
    "ABC=10\n",
    "Abc=10\n",
    "aBC=10\n",
    "abc=10\n",
    "ABC+abc"
   ]
  },
  {
   "cell_type": "code",
   "execution_count": 7,
   "id": "d299c44c-cfbc-4fbd-824e-0b3943727cf2",
   "metadata": {},
   "outputs": [
    {
     "ename": "SyntaxError",
     "evalue": "invalid syntax (<ipython-input-7-eb132473e491>, line 1)",
     "output_type": "error",
     "traceback": [
      "\u001b[1;36m  File \u001b[1;32m\"<ipython-input-7-eb132473e491>\"\u001b[1;36m, line \u001b[1;32m1\u001b[0m\n\u001b[1;33m    1abc=10\u001b[0m\n\u001b[1;37m     ^\u001b[0m\n\u001b[1;31mSyntaxError\u001b[0m\u001b[1;31m:\u001b[0m invalid syntax\n"
     ]
    }
   ],
   "source": [
    "1abc=10"
   ]
  },
  {
   "cell_type": "code",
   "execution_count": 9,
   "id": "a363a1b4-7c7b-47f3-9853-59e359641733",
   "metadata": {},
   "outputs": [
    {
     "ename": "SyntaxError",
     "evalue": "invalid syntax (<ipython-input-9-00478ecfad8e>, line 1)",
     "output_type": "error",
     "traceback": [
      "\u001b[1;36m  File \u001b[1;32m\"<ipython-input-9-00478ecfad8e>\"\u001b[1;36m, line \u001b[1;32m1\u001b[0m\n\u001b[1;33m    a b=10\u001b[0m\n\u001b[1;37m      ^\u001b[0m\n\u001b[1;31mSyntaxError\u001b[0m\u001b[1;31m:\u001b[0m invalid syntax\n"
     ]
    }
   ],
   "source": [
    "a b=10"
   ]
  },
  {
   "cell_type": "code",
   "execution_count": 12,
   "id": "9ad61080-9b49-4611-bab1-df8c744c4ae6",
   "metadata": {},
   "outputs": [],
   "source": [
    "x,y,z,a=\"Sarah\",\"Romy\",\"Markose\",2\n"
   ]
  },
  {
   "cell_type": "code",
   "execution_count": 5,
   "id": "85820399-88ba-4c85-94d0-a6a206185ab4",
   "metadata": {},
   "outputs": [
    {
     "name": "stdout",
     "output_type": "stream",
     "text": [
      "Sarah\n"
     ]
    }
   ],
   "source": [
    "print(x)"
   ]
  },
  {
   "cell_type": "code",
   "execution_count": 6,
   "id": "f07ce226-e1b3-4672-92c8-4a404e6a4e7f",
   "metadata": {},
   "outputs": [
    {
     "name": "stdout",
     "output_type": "stream",
     "text": [
      "Romy\n"
     ]
    }
   ],
   "source": [
    "print(y)"
   ]
  },
  {
   "cell_type": "code",
   "execution_count": 13,
   "id": "51e3d5d2-1c3a-4614-89b4-b786aea4adff",
   "metadata": {},
   "outputs": [
    {
     "name": "stdout",
     "output_type": "stream",
     "text": [
      "Markose\n"
     ]
    }
   ],
   "source": [
    "print(z)"
   ]
  },
  {
   "cell_type": "code",
   "execution_count": 14,
   "id": "a0b2f1c2-2f6b-4bdc-a730-cfac490dc3be",
   "metadata": {},
   "outputs": [
    {
     "name": "stdout",
     "output_type": "stream",
     "text": [
      "2\n"
     ]
    }
   ],
   "source": [
    "print(a)"
   ]
  },
  {
   "cell_type": "code",
   "execution_count": 20,
   "id": "51dc95fd-a5bb-4d16-b618-6deba6c30f12",
   "metadata": {},
   "outputs": [],
   "source": [
    "import math as mt"
   ]
  },
  {
   "cell_type": "code",
   "execution_count": 21,
   "id": "ba24ce52-2d3a-4052-a6e7-08031e5bd492",
   "metadata": {},
   "outputs": [
    {
     "data": {
      "text/plain": [
       "3.141592653589793"
      ]
     },
     "execution_count": 21,
     "metadata": {},
     "output_type": "execute_result"
    }
   ],
   "source": [
    "mt.pi"
   ]
  },
  {
   "cell_type": "code",
   "execution_count": 22,
   "id": "93292dce-94d3-4e22-8f06-f9f85b0cfa51",
   "metadata": {},
   "outputs": [
    {
     "data": {
      "text/plain": [
       "1.0"
      ]
     },
     "execution_count": 22,
     "metadata": {},
     "output_type": "execute_result"
    }
   ],
   "source": [
    "mt.cos(0)"
   ]
  },
  {
   "cell_type": "code",
   "execution_count": 23,
   "id": "78c26e4d-acba-4919-8dec-35a879a556db",
   "metadata": {},
   "outputs": [
    {
     "data": {
      "text/plain": [
       "1.0"
      ]
     },
     "execution_count": 23,
     "metadata": {},
     "output_type": "execute_result"
    }
   ],
   "source": [
    "mt.sin(mt.pi/2)"
   ]
  },
  {
   "cell_type": "code",
   "execution_count": 24,
   "id": "63ecfb7f-e8d0-4d25-9336-f68eff1e872a",
   "metadata": {},
   "outputs": [
    {
     "name": "stdin",
     "output_type": "stream",
     "text": [
      "The Number: 90\n"
     ]
    }
   ],
   "source": [
    "x=input(\"The Number:\")"
   ]
  },
  {
   "cell_type": "code",
   "execution_count": 31,
   "id": "9c9c6b3f-2ec9-4aac-aed1-3c496a06b4be",
   "metadata": {},
   "outputs": [],
   "source": [
    "a=mt.sin(int(x))\n"
   ]
  },
  {
   "cell_type": "code",
   "execution_count": 30,
   "id": "c79a76b1-6fdf-4618-a99a-371371fdfb16",
   "metadata": {},
   "outputs": [
    {
     "name": "stdout",
     "output_type": "stream",
     "text": [
      "0.8939966636005579\n"
     ]
    }
   ],
   "source": [
    "print(a)"
   ]
  },
  {
   "cell_type": "code",
   "execution_count": 32,
   "id": "ebd08fa8-f436-4130-b73d-749afb84f0f6",
   "metadata": {},
   "outputs": [],
   "source": [
    "b=mt.cos(int(x))"
   ]
  },
  {
   "cell_type": "code",
   "execution_count": 33,
   "id": "187dcee0-0d01-4faa-99ae-e6d4fbcc1230",
   "metadata": {},
   "outputs": [
    {
     "name": "stdout",
     "output_type": "stream",
     "text": [
      "-0.4480736161291701\n"
     ]
    }
   ],
   "source": [
    "print(b)"
   ]
  },
  {
   "cell_type": "code",
   "execution_count": 34,
   "id": "f5ccdb8e-e98f-4f4e-aecb-a2d78a14dda4",
   "metadata": {},
   "outputs": [],
   "source": [
    "c=mt.tan(int(x))"
   ]
  },
  {
   "cell_type": "code",
   "execution_count": 35,
   "id": "36c1fe1b-6d1d-4099-b1dd-082895649e5d",
   "metadata": {},
   "outputs": [
    {
     "name": "stdout",
     "output_type": "stream",
     "text": [
      "-1.995200412208242\n"
     ]
    }
   ],
   "source": [
    "print(c)"
   ]
  },
  {
   "cell_type": "code",
   "execution_count": 36,
   "id": "4ff269c3-c647-4430-b204-e0103d55998a",
   "metadata": {},
   "outputs": [
    {
     "name": "stdin",
     "output_type": "stream",
     "text": [
      "The Number: 45\n"
     ]
    }
   ],
   "source": [
    "g=input(\"The Number:\")"
   ]
  },
  {
   "cell_type": "code",
   "execution_count": 37,
   "id": "56f71247-9c3c-4bda-a571-77473ec64205",
   "metadata": {},
   "outputs": [],
   "source": [
    "h=mt.tan(int(g))"
   ]
  },
  {
   "cell_type": "code",
   "execution_count": 38,
   "id": "1cadf931-7e1a-4f17-a023-4e65f981bee0",
   "metadata": {},
   "outputs": [
    {
     "name": "stdout",
     "output_type": "stream",
     "text": [
      "1.6197751905438615\n"
     ]
    }
   ],
   "source": [
    "print(h)"
   ]
  },
  {
   "cell_type": "code",
   "execution_count": 3,
   "id": "e306dd54-f26b-428c-bf7b-178c128462f0",
   "metadata": {},
   "outputs": [
    {
     "name": "stdin",
     "output_type": "stream",
     "text": [
      "Enter a number: 5\n"
     ]
    }
   ],
   "source": [
    "x=int(input(\"Enter a number:\"))"
   ]
  },
  {
   "cell_type": "code",
   "execution_count": 4,
   "id": "dd3a5c11-10f8-4f81-a9cd-905eb7d703f0",
   "metadata": {},
   "outputs": [
    {
     "name": "stdout",
     "output_type": "stream",
     "text": [
      "Sq. of x: 25\n"
     ]
    }
   ],
   "source": [
    "print(\"Sq. of x:\", x*x)"
   ]
  },
  {
   "cell_type": "code",
   "execution_count": 8,
   "id": "bb7fa518-4a4a-40d3-b33e-92a86859f0a3",
   "metadata": {},
   "outputs": [],
   "source": [
    "def kera():\n",
    "    x=int(input(\"Enter sum number:\"))\n",
    "    print(\"Sq. of x =\", x*x)"
   ]
  },
  {
   "cell_type": "code",
   "execution_count": 9,
   "id": "f40b6603-e32c-4a08-908c-d68b6bf82184",
   "metadata": {},
   "outputs": [
    {
     "name": "stdin",
     "output_type": "stream",
     "text": [
      "Enter sum number: 9\n"
     ]
    },
    {
     "name": "stdout",
     "output_type": "stream",
     "text": [
      "Sq. of x = 81\n"
     ]
    }
   ],
   "source": [
    "kera()"
   ]
  },
  {
   "cell_type": "code",
   "execution_count": null,
   "id": "f5800e0f-bc75-41e9-bf9b-49209f74c150",
   "metadata": {},
   "outputs": [],
   "source": []
  }
 ],
 "metadata": {
  "kernelspec": {
   "display_name": "Python 3",
   "language": "python",
   "name": "python3"
  },
  "language_info": {
   "codemirror_mode": {
    "name": "ipython",
    "version": 3
   },
   "file_extension": ".py",
   "mimetype": "text/x-python",
   "name": "python",
   "nbconvert_exporter": "python",
   "pygments_lexer": "ipython3",
   "version": "3.8.8"
  }
 },
 "nbformat": 4,
 "nbformat_minor": 5
}
