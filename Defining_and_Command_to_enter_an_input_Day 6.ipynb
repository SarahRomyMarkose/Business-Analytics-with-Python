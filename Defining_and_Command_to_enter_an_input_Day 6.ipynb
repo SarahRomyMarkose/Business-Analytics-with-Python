{
 "cells": [
  {
   "cell_type": "code",
   "execution_count": 1,
   "id": "8eabf5ff-8144-428a-a72d-8da24416e0f3",
   "metadata": {},
   "outputs": [],
   "source": [
    "def ABCD():\n",
    "    print(\"Hello from a function\")"
   ]
  },
  {
   "cell_type": "code",
   "execution_count": 3,
   "id": "52a578ef-0bc3-40d5-86c2-f61b76731a8c",
   "metadata": {},
   "outputs": [
    {
     "name": "stdout",
     "output_type": "stream",
     "text": [
      "Hello from a function\n"
     ]
    }
   ],
   "source": [
    "ABCD()"
   ]
  },
  {
   "cell_type": "code",
   "execution_count": 7,
   "id": "aea6f1fe-a052-492b-8ec0-245de889b87d",
   "metadata": {},
   "outputs": [
    {
     "name": "stdout",
     "output_type": "stream",
     "text": [
      "20\n",
      "Hello from a function\n"
     ]
    }
   ],
   "source": [
    "x=10\n",
    "y=20\n",
    "z=x+y\n",
    "print(y)\n",
    "ABCD()\n",
    "     "
   ]
  },
  {
   "cell_type": "code",
   "execution_count": 5,
   "id": "b218a20a-bfad-4798-b382-5341e7bc66b9",
   "metadata": {},
   "outputs": [
    {
     "name": "stdout",
     "output_type": "stream",
     "text": [
      "30\n"
     ]
    }
   ],
   "source": [
    "print(z)"
   ]
  },
  {
   "cell_type": "code",
   "execution_count": 6,
   "id": "cf92dcbc-ab5d-4e54-a666-378f0e49b3b2",
   "metadata": {},
   "outputs": [
    {
     "name": "stdout",
     "output_type": "stream",
     "text": [
      "Hello from a function\n"
     ]
    }
   ],
   "source": [
    "ABCD()"
   ]
  },
  {
   "cell_type": "code",
   "execution_count": 1,
   "id": "85afe147-f805-417c-b337-dec054f964b1",
   "metadata": {},
   "outputs": [],
   "source": [
    "def add():\n",
    "    x=int(input(\"Enter first No.:\"))\n",
    "    y=int(input(\"Enter second No.:\"))\n",
    "    print(x+y)\n",
    "    \n",
    "    "
   ]
  },
  {
   "cell_type": "code",
   "execution_count": 15,
   "id": "06115ae7-561f-4e9d-bac1-c89cee271de4",
   "metadata": {},
   "outputs": [
    {
     "name": "stdin",
     "output_type": "stream",
     "text": [
      "Enter first No.: 20\n",
      "Enter second No.: 30\n"
     ]
    },
    {
     "name": "stdout",
     "output_type": "stream",
     "text": [
      "50\n"
     ]
    }
   ],
   "source": [
    "add()"
   ]
  },
  {
   "cell_type": "code",
   "execution_count": 2,
   "id": "3d2847a3-d0fd-437c-a5b4-d5fc7e53c022",
   "metadata": {},
   "outputs": [],
   "source": [
    "def RCSS():\n",
    "    x=int(input(\"Enter first No.:\"))\n",
    "    y=int(input(\"Enter second No.:\"))\n",
    "    print(x-y)"
   ]
  },
  {
   "cell_type": "code",
   "execution_count": 17,
   "id": "7e89ba1a-5f10-4b3a-bbb1-d08d917da9a1",
   "metadata": {},
   "outputs": [
    {
     "name": "stdin",
     "output_type": "stream",
     "text": [
      "Enter first No.: 40\n",
      "Enter second No.: 40\n"
     ]
    },
    {
     "name": "stdout",
     "output_type": "stream",
     "text": [
      "0\n"
     ]
    }
   ],
   "source": [
    "RCSS()"
   ]
  },
  {
   "cell_type": "code",
   "execution_count": 3,
   "id": "2e3ba5e5-6534-4ed3-a1dc-179cbe97dc52",
   "metadata": {},
   "outputs": [],
   "source": [
    "def LILAC():\n",
    "    x=int(input(\"Enter first No.:\"))\n",
    "    y=int(input(\"Enter second No.:\"))\n",
    "    print(x*y)"
   ]
  },
  {
   "cell_type": "code",
   "execution_count": 2,
   "id": "a6fd8caa-5600-49a0-8e15-846a8e01a0e5",
   "metadata": {},
   "outputs": [
    {
     "name": "stdin",
     "output_type": "stream",
     "text": [
      "Enter first No.: 5\n",
      "Enter second No.: 8\n"
     ]
    },
    {
     "name": "stdout",
     "output_type": "stream",
     "text": [
      "40\n"
     ]
    }
   ],
   "source": [
    "LILAC()"
   ]
  },
  {
   "cell_type": "code",
   "execution_count": 4,
   "id": "6211abcd-d59f-4c30-a99f-71be72e3e54e",
   "metadata": {},
   "outputs": [],
   "source": [
    "def LAKE():\n",
    "    x=int(input(\"Enter first No.:\"))\n",
    "    y=int(input(\"Enter second No.:\"))\n",
    "    print(x/y)\n",
    "    "
   ]
  },
  {
   "cell_type": "code",
   "execution_count": 4,
   "id": "f6d2d583-fe7c-45a3-a1d3-3b6d4a6fdc86",
   "metadata": {},
   "outputs": [
    {
     "name": "stdin",
     "output_type": "stream",
     "text": [
      "Enter first No.: 20\n",
      "Enter second No.: 5\n"
     ]
    },
    {
     "name": "stdout",
     "output_type": "stream",
     "text": [
      "4.0\n"
     ]
    }
   ],
   "source": [
    "LAKE()"
   ]
  },
  {
   "cell_type": "code",
   "execution_count": null,
   "id": "fe1e7583-ffbd-4023-a204-abb9e1a7de64",
   "metadata": {},
   "outputs": [],
   "source": [
    "a=int(input(\"enter a number\"))\n",
    "if a==1:\n",
    "    add()\n",
    "if a== 2:\n",
    "    sub()"
   ]
  },
  {
   "cell_type": "code",
   "execution_count": 5,
   "id": "a2d8d239-3391-407f-9c74-980c79b1a837",
   "metadata": {},
   "outputs": [
    {
     "name": "stdin",
     "output_type": "stream",
     "text": [
      "Enter a Number: 2\n",
      "Enter first No.: 7\n",
      "Enter second No.: 8\n"
     ]
    },
    {
     "name": "stdout",
     "output_type": "stream",
     "text": [
      "-1\n"
     ]
    }
   ],
   "source": [
    "a=int(input(\"Enter a Number:\"))\n",
    "if a== 1:\n",
    "    add()\n",
    "if a== 2:\n",
    "    RCSS()\n",
    "if a== 3:\n",
    "    LILAC()\n",
    "if a== 4:\n",
    "    LAKE()"
   ]
  },
  {
   "cell_type": "code",
   "execution_count": 9,
   "id": "26b0b0ba-5412-4475-9ab6-eab9fc29d550",
   "metadata": {},
   "outputs": [],
   "source": [
    "def BELL(x,y):\n",
    "    z=x+y\n",
    "    print(z)"
   ]
  },
  {
   "cell_type": "code",
   "execution_count": 9,
   "id": "a30ec871-3ded-40c8-a0dd-ab54f09a60de",
   "metadata": {},
   "outputs": [
    {
     "name": "stdin",
     "output_type": "stream",
     "text": [
      "Enter a value: 5\n",
      "Enter a value: 6\n"
     ]
    },
    {
     "name": "stdout",
     "output_type": "stream",
     "text": [
      "11\n"
     ]
    }
   ],
   "source": [
    "x=int(input(\"Enter a value:\"))\n",
    "y=int(input(\"Enter a value:\"))\n",
    "BELL(x,y)\n",
    "      \n"
   ]
  },
  {
   "cell_type": "code",
   "execution_count": 3,
   "id": "1b1bad12-9b82-4341-ba9f-da2144c87d7b",
   "metadata": {},
   "outputs": [],
   "source": [
    "def SNOW(x,y):\n",
    "    z=x-y\n",
    "    print(z)"
   ]
  },
  {
   "cell_type": "code",
   "execution_count": 11,
   "id": "de616cae-11c7-4e40-b086-6151ba5a29b5",
   "metadata": {},
   "outputs": [
    {
     "name": "stdin",
     "output_type": "stream",
     "text": [
      "Enter a value: 4\n",
      "Enter a value: 5\n"
     ]
    },
    {
     "name": "stdout",
     "output_type": "stream",
     "text": [
      "-1\n",
      "9\n"
     ]
    }
   ],
   "source": [
    "x=int(input(\"Enter a value:\"))\n",
    "y=int(input(\"Enter a value:\"))\n",
    "SNOW(x,y)\n",
    "BELL(x,y)"
   ]
  },
  {
   "cell_type": "markdown",
   "id": "4ff5ee5d-289f-484d-a718-f1bc0e6776a3",
   "metadata": {},
   "source": [
    "def BELL(x,y):\n",
    "    z=x+y\n",
    "    print(z)"
   ]
  },
  {
   "cell_type": "code",
   "execution_count": 6,
   "id": "2ad0ee84-ec6c-4222-96f1-f7f332559f36",
   "metadata": {},
   "outputs": [],
   "source": [
    "def SUB(x,y):\n",
    "    z=x-y\n",
    "    print(z)"
   ]
  },
  {
   "cell_type": "code",
   "execution_count": 7,
   "id": "48595b87-d0e9-466e-8745-9fca371434f1",
   "metadata": {},
   "outputs": [
    {
     "name": "stdin",
     "output_type": "stream",
     "text": [
      "Value1: 3\n",
      "Value2: 3\n"
     ]
    },
    {
     "ename": "NameError",
     "evalue": "name 'x' is not defined",
     "output_type": "error",
     "traceback": [
      "\u001b[1;31m---------------------------------------------------------------------------\u001b[0m",
      "\u001b[1;31mNameError\u001b[0m                                 Traceback (most recent call last)",
      "\u001b[1;32m<ipython-input-7-ba0715e62b63>\u001b[0m in \u001b[0;36m<module>\u001b[1;34m\u001b[0m\n\u001b[0;32m      1\u001b[0m \u001b[0mf\u001b[0m\u001b[1;33m=\u001b[0m\u001b[0mint\u001b[0m\u001b[1;33m(\u001b[0m\u001b[0minput\u001b[0m\u001b[1;33m(\u001b[0m\u001b[1;34m\"Value1:\"\u001b[0m\u001b[1;33m)\u001b[0m\u001b[1;33m)\u001b[0m\u001b[1;33m\u001b[0m\u001b[1;33m\u001b[0m\u001b[0m\n\u001b[0;32m      2\u001b[0m \u001b[0mg\u001b[0m\u001b[1;33m=\u001b[0m\u001b[0mint\u001b[0m\u001b[1;33m(\u001b[0m\u001b[0minput\u001b[0m\u001b[1;33m(\u001b[0m\u001b[1;34m\"Value2:\"\u001b[0m\u001b[1;33m)\u001b[0m\u001b[1;33m)\u001b[0m\u001b[1;33m\u001b[0m\u001b[1;33m\u001b[0m\u001b[0m\n\u001b[1;32m----> 3\u001b[1;33m \u001b[0mSUB\u001b[0m\u001b[1;33m(\u001b[0m\u001b[0mx\u001b[0m\u001b[1;33m,\u001b[0m\u001b[0my\u001b[0m\u001b[1;33m)\u001b[0m\u001b[1;33m\u001b[0m\u001b[1;33m\u001b[0m\u001b[0m\n\u001b[0m",
      "\u001b[1;31mNameError\u001b[0m: name 'x' is not defined"
     ]
    }
   ],
   "source": [
    "f=int(input(\"Value1:\"))\n",
    "g=int(input(\"Value2:\"))\n",
    "SUB(x,y)"
   ]
  },
  {
   "cell_type": "code",
   "execution_count": 11,
   "id": "44768a9b-d9d6-4cea-9392-4c0b763725ec",
   "metadata": {},
   "outputs": [],
   "source": [
    "def add(x,y):\n",
    "    z=x+y\n",
    "    print(z)\n",
    "def sub(x,y):\n",
    "    z=x-y\n",
    "    print(z)\n",
    "def div(x,y):\n",
    "    z=x/y\n",
    "    print(z)\n",
    "def mult(x,y):\n",
    "    z=x*y\n",
    "    print(z)"
   ]
  },
  {
   "cell_type": "code",
   "execution_count": 15,
   "id": "2c30e267-57ae-44c0-a603-cb50e7a9c6c6",
   "metadata": {},
   "outputs": [
    {
     "name": "stdin",
     "output_type": "stream",
     "text": [
      "Enter a value: 5\n",
      "Enter a value: 5\n",
      "Enter a value: 1\n"
     ]
    },
    {
     "name": "stdout",
     "output_type": "stream",
     "text": [
      "10\n"
     ]
    }
   ],
   "source": [
    "x=int(input(\"Enter a value:\"))\n",
    "y=int(input(\"Enter a value:\"))\n",
    "z=int(input(\"Enter a value:\"))\n",
    "if z==1:\n",
    "    add(x,y)\n",
    "if z==2:\n",
    "    sub(x,y)\n",
    "if z==3:\n",
    "    div(x,y)\n",
    "if z==4:\n",
    "    mult(x,y)"
   ]
  },
  {
   "cell_type": "code",
   "execution_count": 16,
   "id": "342ea110-a079-46cc-aa83-48e4bac9ca88",
   "metadata": {},
   "outputs": [],
   "source": [
    "def UVW(x,y,z):\n",
    "    x=int(input(\"Enter a value:\"))\n",
    "    y=int(input(\"Enter a value:\"))\n",
    "    z=int(input(\"Enter a value:\"))\n",
    "    if z==1:\n",
    "     add(x,y)\n",
    "    if z==2:\n",
    "     sub(x,y)\n",
    "    if z==3:\n",
    "     div(x,y)\n",
    "    if z==4:\n",
    "     mult(x,y)"
   ]
  },
  {
   "cell_type": "code",
   "execution_count": 15,
   "id": "38f3be96-caf2-47ec-ba19-044c47788f03",
   "metadata": {},
   "outputs": [
    {
     "ename": "NameError",
     "evalue": "name 'x' is not defined",
     "output_type": "error",
     "traceback": [
      "\u001b[1;31m---------------------------------------------------------------------------\u001b[0m",
      "\u001b[1;31mNameError\u001b[0m                                 Traceback (most recent call last)",
      "\u001b[1;32m<ipython-input-15-f3c6d60c0434>\u001b[0m in \u001b[0;36m<module>\u001b[1;34m\u001b[0m\n\u001b[1;32m----> 1\u001b[1;33m \u001b[0mUVW\u001b[0m\u001b[1;33m(\u001b[0m\u001b[0mx\u001b[0m\u001b[1;33m,\u001b[0m\u001b[0my\u001b[0m\u001b[1;33m,\u001b[0m\u001b[0mz\u001b[0m\u001b[1;33m)\u001b[0m\u001b[1;33m\u001b[0m\u001b[1;33m\u001b[0m\u001b[0m\n\u001b[0m",
      "\u001b[1;31mNameError\u001b[0m: name 'x' is not defined"
     ]
    }
   ],
   "source": [
    "UVW(x,y,z)"
   ]
  },
  {
   "cell_type": "code",
   "execution_count": null,
   "id": "6ce06afc-37c0-4f7e-bacd-1a4dd136e231",
   "metadata": {},
   "outputs": [],
   "source": []
  }
 ],
 "metadata": {
  "kernelspec": {
   "display_name": "Python 3",
   "language": "python",
   "name": "python3"
  },
  "language_info": {
   "codemirror_mode": {
    "name": "ipython",
    "version": 3
   },
   "file_extension": ".py",
   "mimetype": "text/x-python",
   "name": "python",
   "nbconvert_exporter": "python",
   "pygments_lexer": "ipython3",
   "version": "3.8.8"
  }
 },
 "nbformat": 4,
 "nbformat_minor": 5
}
